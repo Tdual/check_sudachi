{
 "cells": [
  {
   "cell_type": "code",
   "execution_count": 1,
   "metadata": {},
   "outputs": [
    {
     "name": "stdout",
     "output_type": "stream",
     "text": [
      "Requirement already satisfied: sudachipy in /Users/tdual/opt/anaconda3/envs/py3.6/lib/python3.6/site-packages (0.4.9)\n",
      "Requirement already satisfied: sortedcontainers~=2.1.0 in /Users/tdual/opt/anaconda3/envs/py3.6/lib/python3.6/site-packages (from sudachipy) (2.1.0)\n",
      "Requirement already satisfied: dartsclone~=0.9.0 in /Users/tdual/opt/anaconda3/envs/py3.6/lib/python3.6/site-packages (from sudachipy) (0.9.0)\n",
      "Requirement already satisfied: Cython in /Users/tdual/opt/anaconda3/envs/py3.6/lib/python3.6/site-packages (from dartsclone~=0.9.0->sudachipy) (0.29.15)\n",
      "Requirement already satisfied: sudachidict_core in /Users/tdual/opt/anaconda3/envs/py3.6/lib/python3.6/site-packages (20200330)\n",
      "Requirement already satisfied: SudachiPy~=0.4.4 in /Users/tdual/opt/anaconda3/envs/py3.6/lib/python3.6/site-packages (from sudachidict_core) (0.4.9)\n",
      "Requirement already satisfied: sortedcontainers~=2.1.0 in /Users/tdual/opt/anaconda3/envs/py3.6/lib/python3.6/site-packages (from SudachiPy~=0.4.4->sudachidict_core) (2.1.0)\n",
      "Requirement already satisfied: dartsclone~=0.9.0 in /Users/tdual/opt/anaconda3/envs/py3.6/lib/python3.6/site-packages (from SudachiPy~=0.4.4->sudachidict_core) (0.9.0)\n",
      "Requirement already satisfied: Cython in /Users/tdual/opt/anaconda3/envs/py3.6/lib/python3.6/site-packages (from dartsclone~=0.9.0->SudachiPy~=0.4.4->sudachidict_core) (0.29.15)\n"
     ]
    }
   ],
   "source": [
    "! pip install sudachipy\n",
    "! pip install sudachidict_core"
   ]
  },
  {
   "cell_type": "code",
   "execution_count": 2,
   "metadata": {},
   "outputs": [],
   "source": [
    "import re\n",
    "import math\n",
    "import resource\n",
    "import numpy as np\n",
    "from urllib import request \n",
    "from pathlib import Path\n",
    "\n",
    "\n",
    "import MeCab\n",
    "import neologdn\n",
    "import gensim\n",
    "from gensim import corpora\n",
    "from gensim.corpora import Dictionary\n",
    "\n",
    "\n",
    "import matplotlib.pyplot as plt\n",
    "from sklearn.metrics import confusion_matrix\n",
    "from sklearn.model_selection import train_test_split\n",
    "from sklearn.metrics import recall_score, precision_score, accuracy_score\n",
    "from sklearn.linear_model import LogisticRegression"
   ]
  },
  {
   "cell_type": "code",
   "execution_count": 3,
   "metadata": {},
   "outputs": [],
   "source": [
    "from sudachipy import tokenizer\n",
    "from sudachipy import dictionary\n",
    "\n",
    "tokenizer_obj = dictionary.Dictionary().create()"
   ]
  },
  {
   "cell_type": "markdown",
   "metadata": {},
   "source": [
    "## check sudachi"
   ]
  },
  {
   "cell_type": "code",
   "execution_count": 4,
   "metadata": {},
   "outputs": [
    {
     "data": {
      "text/plain": [
       "[('国家', ['名詞', '普通名詞', '一般', '*', '*', '*']),\n",
       " ('公務', ['名詞', '普通名詞', '一般', '*', '*', '*']),\n",
       " ('員', ['接尾辞', '名詞的', '一般', '*', '*', '*'])]"
      ]
     },
     "execution_count": 4,
     "metadata": {},
     "output_type": "execute_result"
    }
   ],
   "source": [
    "mode = tokenizer.Tokenizer.SplitMode.A\n",
    "[(m.surface(), m.part_of_speech()) for m in tokenizer_obj.tokenize(\"国家公務員\", mode)]"
   ]
  },
  {
   "cell_type": "code",
   "execution_count": 5,
   "metadata": {},
   "outputs": [
    {
     "data": {
      "text/plain": [
       "[['名詞', '普通名詞', '一般', '*', '*', '*']]"
      ]
     },
     "execution_count": 5,
     "metadata": {},
     "output_type": "execute_result"
    }
   ],
   "source": [
    "mode = tokenizer.Tokenizer.SplitMode.C\n",
    "[m.part_of_speech() for m in tokenizer_obj.tokenize(\"国家公務員\", mode)]"
   ]
  },
  {
   "cell_type": "code",
   "execution_count": 6,
   "metadata": {},
   "outputs": [
    {
     "data": {
      "text/plain": [
       "'サマー'"
      ]
     },
     "execution_count": 6,
     "metadata": {},
     "output_type": "execute_result"
    }
   ],
   "source": [
    "tokenizer_obj.tokenize(\"SUMMER\", mode)[0].normalized_form()"
   ]
  },
  {
   "cell_type": "markdown",
   "metadata": {},
   "source": [
    "## get stopword"
   ]
  },
  {
   "cell_type": "code",
   "execution_count": 7,
   "metadata": {},
   "outputs": [
    {
     "name": "stdout",
     "output_type": "stream",
     "text": [
      "331\n",
      "['あそこ', 'あたり', 'あちら']\n"
     ]
    }
   ],
   "source": [
    "sw_filename = \"stopwords.txt\"\n",
    "if not Path(sw_filename).exists():\n",
    "    res = request.urlopen(\"http://svn.sourceforge.jp/svnroot/slothlib/CSharp/Version1/SlothLib/NLP/Filter/StopWord/word/Japanese.txt\").read().decode(\"utf-8\")\n",
    "    with open(sw_filename, \"w\") as f:\n",
    "        f.write(res)\n",
    "else:\n",
    "    with open(sw_filename) as f:\n",
    "        res = f.read()\n",
    "stopwords = [line.strip() for line in res.split(\"\\n\")]\n",
    "print(len(stopwords))\n",
    "print(stopwords[:3])"
   ]
  },
  {
   "cell_type": "code",
   "execution_count": null,
   "metadata": {},
   "outputs": [],
   "source": []
  },
  {
   "cell_type": "markdown",
   "metadata": {},
   "source": [
    "## create tokenizer"
   ]
  },
  {
   "cell_type": "code",
   "execution_count": 8,
   "metadata": {},
   "outputs": [],
   "source": [
    "class SudachiTokenizer():\n",
    "    def __init__(self, mode=\"C\", stopwords=None, include_pos=None):\n",
    "        \n",
    "        if mode not in [\"A\", \"B\", \"C\"]:\n",
    "            raise Exception(\"invalid mode. 'A' ,'B' or 'C'\")\n",
    "        self.mode = getattr(tokenizer.Tokenizer.SplitMode, mode)\n",
    "        print(self.mode )\n",
    "        \n",
    "        if stopwords is None:\n",
    "            self.stopwords = []\n",
    "        else:\n",
    "            self.stopwords = stopwords\n",
    "        if include_pos is None:\n",
    "            self.include_pos = [\"名詞\", \"動詞\", \"形容詞\"]\n",
    "        else:\n",
    "            self.include_pos = include_pos\n",
    "    \n",
    "    def parser(self, text):\n",
    "        return tokenizer_obj.tokenize(text, self.mode)\n",
    "    \n",
    "    \n",
    "    def tokenize(self, text, pos=False):\n",
    "        res = []\n",
    "        for m in self.parser(text):\n",
    "            p = m.part_of_speech()\n",
    "            base = m.normalized_form() #.dictionary_form()\n",
    "            #print(base, \": \", p)\n",
    "            if p[0] in self.include_pos and base not in self.stopwords and p[1] != \"数詞\":\n",
    "                if pos:\n",
    "                    res.append((base, p[0]))\n",
    "                else:\n",
    "                    res.append(base)\n",
    "        return res"
   ]
  },
  {
   "cell_type": "code",
   "execution_count": 9,
   "metadata": {},
   "outputs": [],
   "source": [
    "class MeCabTokenizer:\n",
    "    def __init__(self, dic_dir=None, stopwords=None, include_pos=None):\n",
    "        tagger_cmd = \"-Ochasen\"\n",
    "        if dic_dir:\n",
    "            tagger_cmd += \" -d {}\".format(dic_dir)\n",
    "        mecab = MeCab.Tagger(tagger_cmd)\n",
    "        self.parser = mecab.parse\n",
    "        if stopwords is None:\n",
    "            self.stopwords = []\n",
    "        else:\n",
    "            self.stopwords = stopwords\n",
    "        if include_pos is None:\n",
    "            self.include_pos = [\"名詞\", \"動詞\", \"形容詞\"]\n",
    "        else:\n",
    "            self.include_pos = include_pos\n",
    "\n",
    "    def tokenize(self, text, pos=False):\n",
    "        l = [line.split(\"\\t\") for line in self.parser(text).split(\"\\n\")]\n",
    "        res = []\n",
    "        for w in l:\n",
    "            if len(w) >=4: # check nomal words (e.g. not EOS)\n",
    "                p = w[3]\n",
    "                group_pos = p.split(\"-\")[0]\n",
    "                base = w[2]\n",
    "                if group_pos in self.include_pos and base not in self.stopwords and \"数\" not in p:\n",
    "                    if pos:\n",
    "                        res.append((base, p))\n",
    "                    else:\n",
    "                        res.append(base)\n",
    "        return res"
   ]
  },
  {
   "cell_type": "code",
   "execution_count": null,
   "metadata": {},
   "outputs": [],
   "source": []
  },
  {
   "cell_type": "code",
   "execution_count": 10,
   "metadata": {},
   "outputs": [],
   "source": [
    "include_pos = [\"名詞\", \"動詞\", \"形容詞\"]"
   ]
  },
  {
   "cell_type": "code",
   "execution_count": 11,
   "metadata": {},
   "outputs": [
    {
     "name": "stdout",
     "output_type": "stream",
     "text": [
      "SplitMode.C\n"
     ]
    }
   ],
   "source": [
    "mecab_tokenizer = MeCabTokenizer(dic_dir=\"/usr/local/lib/mecab/dic/mecab-ipadic-neologd\", stopwords=stopwords, include_pos=include_pos)\n",
    "sudachi_tokenizer = SudachiTokenizer(mode=\"C\", stopwords=stopwords, include_pos=include_pos+[\"形状詞\"])"
   ]
  },
  {
   "cell_type": "code",
   "execution_count": 12,
   "metadata": {},
   "outputs": [],
   "source": [
    "text = \"上記のコードは命令的で冗長です。算出プロパティを利用したバージョンと比較してみましょう\""
   ]
  },
  {
   "cell_type": "code",
   "execution_count": 13,
   "metadata": {},
   "outputs": [],
   "source": [
    "words = mecab_tokenizer.tokenize(text, pos=True)"
   ]
  },
  {
   "cell_type": "code",
   "execution_count": 14,
   "metadata": {},
   "outputs": [
    {
     "data": {
      "text/plain": [
       "[('コード', '名詞-一般'),\n",
       " ('命令', '名詞-サ変接続'),\n",
       " ('冗長', '名詞-形容動詞語幹'),\n",
       " ('算出', '名詞-サ変接続'),\n",
       " ('プロパティ', '名詞-固有名詞-一般'),\n",
       " ('利用', '名詞-サ変接続'),\n",
       " ('する', '動詞-自立'),\n",
       " ('バージョン', '名詞-一般'),\n",
       " ('比較', '名詞-サ変接続'),\n",
       " ('する', '動詞-自立'),\n",
       " ('みる', '動詞-非自立')]"
      ]
     },
     "execution_count": 14,
     "metadata": {},
     "output_type": "execute_result"
    }
   ],
   "source": [
    "words"
   ]
  },
  {
   "cell_type": "code",
   "execution_count": 15,
   "metadata": {},
   "outputs": [],
   "source": [
    "kaomoji_reg = r'[\\[|\\(][^あ-ん\\u30A1-\\u30F4\\u2E80-\\u2FDF\\u3005-\\u3007\\u3400-\\u4DBF\\u4E00-\\u9FFF\\uF900-\\uFAFF\\U00020000-\\U0002EBEF]+?[\\]|\\)]'\n",
    "m = re.compile(kaomoji_reg)\n",
    "def normalize(text):\n",
    "    text = str(text)\n",
    "    text = text.replace(\"\\n\", \" \")\n",
    "    text = re.sub(r\"http(s)?:\\/{2}[\\d\\w-]+(\\.[\\d\\w-]+)*(?:(?:\\/[^\\s/]*))*\", \"　\", text)\n",
    "    text = re.sub(r\"\\S*@\\S*\\s?\" ,\"　\", text)\n",
    "    text = text.lower()\n",
    "    text = re.sub(kaomoji_reg, \" \", text)\n",
    "    text = re.sub(r'\\d+', '', text)\n",
    "    text = neologdn.normalize(text)\n",
    "    return text"
   ]
  },
  {
   "cell_type": "code",
   "execution_count": 16,
   "metadata": {},
   "outputs": [
    {
     "data": {
      "text/plain": [
       "['コード', '命令', '冗長', '算出', 'プロパティ', '利用', 'する', 'バージョン', '比較', 'する', 'みる']"
      ]
     },
     "execution_count": 16,
     "metadata": {},
     "output_type": "execute_result"
    }
   ],
   "source": [
    "mecab_tokenizer.tokenize(normalize(text), pos=False)"
   ]
  },
  {
   "cell_type": "code",
   "execution_count": 17,
   "metadata": {},
   "outputs": [
    {
     "data": {
      "text/plain": [
       "['コード', '命令', '冗長', '算出', 'プロパティー', '利用', '為る', 'バージョン', '比較', '為る', '見る']"
      ]
     },
     "execution_count": 17,
     "metadata": {},
     "output_type": "execute_result"
    }
   ],
   "source": [
    "sudachi_tokenizer.tokenize(normalize(text), pos=False)"
   ]
  },
  {
   "cell_type": "code",
   "execution_count": 18,
   "metadata": {},
   "outputs": [
    {
     "data": {
      "text/plain": [
       "[('冗長', '名詞-一般')]"
      ]
     },
     "execution_count": 18,
     "metadata": {},
     "output_type": "execute_result"
    }
   ],
   "source": [
    "mecab_tokenizer.tokenize(\"冗長\", pos=True)"
   ]
  },
  {
   "cell_type": "code",
   "execution_count": 19,
   "metadata": {},
   "outputs": [
    {
     "data": {
      "text/plain": [
       "[('冗長', '形状詞')]"
      ]
     },
     "execution_count": 19,
     "metadata": {},
     "output_type": "execute_result"
    }
   ],
   "source": [
    "sudachi_tokenizer.tokenize(\"冗長\", pos=True)"
   ]
  },
  {
   "cell_type": "markdown",
   "metadata": {},
   "source": [
    "## prepare dataset"
   ]
  },
  {
   "cell_type": "markdown",
   "metadata": {},
   "source": [
    "livedoor ニュースコーパス  \n",
    "https://www.rondhuit.com/download.html#ldcc"
   ]
  },
  {
   "cell_type": "code",
   "execution_count": 20,
   "metadata": {},
   "outputs": [
    {
     "data": {
      "text/plain": [
       "[PosixPath('/Users/tdual/Downloads/text/movie-enter'),\n",
       " PosixPath('/Users/tdual/Downloads/text/it-life-hack'),\n",
       " PosixPath('/Users/tdual/Downloads/text/kaden-channel'),\n",
       " PosixPath('/Users/tdual/Downloads/text/topic-news'),\n",
       " PosixPath('/Users/tdual/Downloads/text/livedoor-homme'),\n",
       " PosixPath('/Users/tdual/Downloads/text/peachy'),\n",
       " PosixPath('/Users/tdual/Downloads/text/sports-watch'),\n",
       " PosixPath('/Users/tdual/Downloads/text/dokujo-tsushin'),\n",
       " PosixPath('/Users/tdual/Downloads/text/smax')]"
      ]
     },
     "execution_count": 20,
     "metadata": {},
     "output_type": "execute_result"
    }
   ],
   "source": [
    "dataset_dir = Path(\"/Users/tdual/Downloads/text\")\n",
    "dirs = [i for i in dataset_dir.iterdir() if i.is_dir()]\n",
    "dirs"
   ]
  },
  {
   "cell_type": "code",
   "execution_count": 21,
   "metadata": {},
   "outputs": [],
   "source": [
    "## Too many open files対策\n",
    "resource.setrlimit(resource.RLIMIT_NOFILE, (8192, 9223372036854775807))"
   ]
  },
  {
   "cell_type": "code",
   "execution_count": 22,
   "metadata": {},
   "outputs": [],
   "source": [
    "X_text = []\n",
    "y = []\n",
    "mapping_dict = {}\n",
    "for d in dirs:\n",
    "    label = d.name\n",
    "    index = len(mapping_dict)\n",
    "    mapping_dict[index] = label\n",
    "    for path in d.iterdir():\n",
    "        text = open(path)\n",
    "        X_text.append(text.read())\n",
    "        y.append(index)"
   ]
  },
  {
   "cell_type": "code",
   "execution_count": 23,
   "metadata": {},
   "outputs": [
    {
     "data": {
      "text/plain": [
       "(7376, 7376)"
      ]
     },
     "execution_count": 23,
     "metadata": {},
     "output_type": "execute_result"
    }
   ],
   "source": [
    "len(X_text), len(y)"
   ]
  },
  {
   "cell_type": "code",
   "execution_count": 24,
   "metadata": {},
   "outputs": [
    {
     "data": {
      "text/plain": [
       "'http://news.livedoor.com/article/detail/5978741/\\n2011-10-30T10:15:00+0900\\n【DVDエンター！】誘拐犯に育てられた女が目にした真実は、孤独か幸福か\\n\\u30002005年11月から翌2006年7月まで読売新聞にて連載された、直木賞作家・角田光代による初の長編サスペンス『八日目の蝉』。2010年に檀れいと北乃きいの出演によりテレビドラマ化された同作が、2011年4月に永作博美と井上真央の出演によって映画化。そして、劇場公開から半年が過ぎた10月28日、DVD＆ブルーレイとなって発売されました。\\n\\n八日目の蝉\\n\\u3000妻子ある男と愛し合い、その子を身ごもりながら、あきらめざるをえなかった女。彼女は同時に、男の妻が子供を産んだことを知る。その赤ん坊を見に行った女は、突発的にその子を連れ去り、逃避行を続けた挙句、小豆島に落ち着き、母と娘として暮らしはじめる。\\n\\n\\n不倫相手の子供を誘拐し、4年間育てた女\\n\\u3000永作博美が演じる野々宮希和子は、不倫相手の子を宿しながらも、彼の「いずれ妻と別れるから、それまで待ってくれ」という常套句を信じて、中絶。後遺症により、二度と子供を産めない身体となってしまいます。その後、不倫相手から彼の妻が出産したことを知らされ、別れを決意。最後に諦めをつけるため、彼らの生後6ヶ月の赤ん坊・恵理菜の顔を見た希和子でしたが、自分に笑顔で向けた恵理菜を見て、思わず誘拐。名前を変えて恵理菜を薫と名付けると、人目を避けて各地を転々とし、二人で幸せな時間を過ごしますが、辿り着いた最後の場所・小豆島で4年の逃避行に終止符を打ちます。\\n\\n\\n誘拐犯に育てられた女\\n\\u30004歳になって実の両親と再会を果たした後も、世間から言われの無い中傷を受け、本当の両親との関係を築けないまま、21歳の大学生へと成長した恵理菜。過去と向き合うことを避けてきた恵理菜でしたが、劇団ひとりが演じる不倫相手・岸田孝史の子を宿し、ずっと憎み続けてきた希和子と同じ道を歩んでいることに気付いた彼女は、小池栄子が演じるルポライター・安藤千草と共に、4年間の逃亡生活を追憶する旅に出ます。希和子との幸せだった時間に触れながら、最終地・小豆島に辿り着いた恵理菜が見た真実とは？\\n\\n\\n八日目の蝉は幸せなのだろうか？\\n\\u3000蝉は俗説として、一生の大半を幼虫として地下で費やし、地上に出て羽化からわずか1週間程度で死ぬと言われています。八日目まで生き残ってしまった蝉が目にしたのは、孤独か、あるいは誰も目にすることのできなかった世界なのでしょうか。中絶によって二度と子供を埋めない身体になった希和子が、恵理菜と過ごした4年間の“八日目”は、希和子だけでなく、恵理菜にとっても幸せな時間だったのではないでしょうか。\\n\\n\\u3000主題歌は、デビュー10年目に突入した2010年10月より、耳管開放症のため音楽活動を休止していた中島美嘉の復帰第一弾（通算33作目）シングル『Dear』。原作に深い感銘を受けた彼女が、本作のために提供した楽曲となっています。\\n\\n・八日目の蝉 - 作品情報\\n\\n八日目の蝉\\u3000通常版 [DVD]posted with amazlet at 11.10.29アミューズソフトエンタテインメント (2011-10-28)\\n売り上げランキング: 266\\nAmazon.co.jp で詳細を見る\\n■関連記事\\n・井上真央が逃避行？永作、森口、小池も頭を悩ます映画とは\\n'"
      ]
     },
     "execution_count": 24,
     "metadata": {},
     "output_type": "execute_result"
    }
   ],
   "source": [
    "X_text[0]"
   ]
  },
  {
   "cell_type": "code",
   "execution_count": 25,
   "metadata": {},
   "outputs": [
    {
     "data": {
      "text/plain": [
       "0"
      ]
     },
     "execution_count": 25,
     "metadata": {},
     "output_type": "execute_result"
    }
   ],
   "source": [
    "y[0]"
   ]
  },
  {
   "cell_type": "code",
   "execution_count": 26,
   "metadata": {},
   "outputs": [
    {
     "data": {
      "text/plain": [
       "{0: 'movie-enter',\n",
       " 1: 'it-life-hack',\n",
       " 2: 'kaden-channel',\n",
       " 3: 'topic-news',\n",
       " 4: 'livedoor-homme',\n",
       " 5: 'peachy',\n",
       " 6: 'sports-watch',\n",
       " 7: 'dokujo-tsushin',\n",
       " 8: 'smax'}"
      ]
     },
     "execution_count": 26,
     "metadata": {},
     "output_type": "execute_result"
    }
   ],
   "source": [
    "mapping_dict"
   ]
  },
  {
   "cell_type": "code",
   "execution_count": null,
   "metadata": {},
   "outputs": [],
   "source": []
  },
  {
   "cell_type": "code",
   "execution_count": 27,
   "metadata": {},
   "outputs": [],
   "source": [
    "X_text_train, X_text_test, y_train, y_test = train_test_split(X_text, y, random_state=0)"
   ]
  },
  {
   "cell_type": "code",
   "execution_count": 28,
   "metadata": {},
   "outputs": [
    {
     "data": {
      "text/plain": [
       "('http://news.livedoor.com/article/detail/6561018/\\n2012-05-15T17:00:00+0900\\nストップ違法コピー！ BSA世界ソフトウェア違法コピー調査2011の結果発表\\nビジネス ソフトウェアアライアンス（BSA）は、2011年における全世界のコンピュータ・ソフトウェアの違法コピーによる被害状況をまとめた「BSA世界ソフトウェア違法コピー調査2011」（略称：違法コピー番付）の結果を発表した。今回で9回目となる違法コピー調査だが、昨年は日本の違法コピー率は20％で2003年の調査開始以来、初めて世界1位（米国、ルクセンブルク大公国と同位）を達成した。しかし、昨年から順位を2つ下げ第3位に転落。日本国内の違法コピー率は昨年の20％から21％へ増加している。日本のPC利用者のうち違法コピーソフトを取得した利用者が39％となった。\\n\\n国内の違法コピーによる損害額は、昨年が約1,431億円であったが今年は約1,500億円（18.75億USドル）へと増大、世界ワーストの順位は昨年同様10位だった。今回の調査結果から、世界的な傾向を計ると先進国メインのソフトウェア成熟市場より発展途上国などのソフトウェア新興市場の違法コピー率が高いことが挙げられ、その平均値は、新興市場の違法コピー率68％対成熟市場の違法コピー率24％と大きく乖離していることが分かったという。\\n\\nまた世界のソフトウェア違法コピー率が平均すると42％を前後している中でその損害額は約5兆745億円（634.56億USドル）となった。その起因として、先述した新興市場における違法コピー率の増大が大きく影響していると見られる。\\n\\n違法コピー率が急激に上昇する理由としては、組織ぐるみの違法コピーが増えることが挙げられる。社内に複数あるPCに違法コピーが行われることでコピー率は一気に跳ね上がるからだ。こうした違法コピーがまん延するのは管理者の意識の低さにあることが多い。\\n\\n昨年の東日本大震災の被害やいつまでたっても抜けだせない国内景気の閉塞感によって節電、省エネ、エコ、経費削減といった言葉がもてはやされているが、ソフトウェアの違法コピーは経費削減ではなく犯罪である。ビジネスソフトの違法コピーは犯罪だということを理解し、組織内に周知徹底することでこうした違法行為を減らすことができる。来年は1位に返り咲くことを期待したいところだ。\\n\\n■BSA世界ソフトウェア違法コピー調査2011\\n■ビジネス ソフトウェア アライアンス（BSA）\\n\\n\\n■ITライフハック Twitter\\n',\n",
       " 'it-life-hack')"
      ]
     },
     "execution_count": 28,
     "metadata": {},
     "output_type": "execute_result"
    }
   ],
   "source": [
    "X_text_train[0], mapping_dict[y_train[0]]"
   ]
  },
  {
   "cell_type": "code",
   "execution_count": 29,
   "metadata": {},
   "outputs": [
    {
     "data": {
      "text/plain": [
       "5532"
      ]
     },
     "execution_count": 29,
     "metadata": {},
     "output_type": "execute_result"
    }
   ],
   "source": [
    "len(X_text_train)"
   ]
  },
  {
   "cell_type": "markdown",
   "metadata": {},
   "source": [
    "## tokenize"
   ]
  },
  {
   "cell_type": "code",
   "execution_count": 30,
   "metadata": {},
   "outputs": [
    {
     "name": "stdout",
     "output_type": "stream",
     "text": [
      "CPU times: user 24.9 s, sys: 317 ms, total: 25.2 s\n",
      "Wall time: 25.5 s\n"
     ]
    }
   ],
   "source": [
    "%%time\n",
    "sentences_mecab = [mecab_tokenizer.tokenize(normalize(s)) for s in X_text_train]"
   ]
  },
  {
   "cell_type": "code",
   "execution_count": 31,
   "metadata": {},
   "outputs": [
    {
     "name": "stdout",
     "output_type": "stream",
     "text": [
      "CPU times: user 7min 3s, sys: 2.37 s, total: 7min 6s\n",
      "Wall time: 7min 9s\n"
     ]
    }
   ],
   "source": [
    "%%time\n",
    "sentences_sudachi = [sudachi_tokenizer.tokenize(normalize(s)) for s in X_text_train]"
   ]
  },
  {
   "cell_type": "code",
   "execution_count": null,
   "metadata": {},
   "outputs": [],
   "source": []
  },
  {
   "cell_type": "markdown",
   "metadata": {},
   "source": [
    "## vectorize by tf-idf "
   ]
  },
  {
   "cell_type": "code",
   "execution_count": 32,
   "metadata": {},
   "outputs": [],
   "source": [
    "dictinonary_mecab = Dictionary(sentences_mecab)\n",
    "dictinonary_mecab.filter_extremes(no_below=2, no_above=0.9)\n",
    "dictinonary_mecab.compactify()\n",
    "corpus_mecab = [dictinonary_mecab.doc2bow(w) for w in sentences_mecab]\n",
    "\n",
    "dictinonary_sudachi = Dictionary(sentences_sudachi)\n",
    "dictinonary_sudachi.filter_extremes(no_below=2, no_above=0.9)\n",
    "dictinonary_sudachi.compactify()\n",
    "corpus_sudachi = [dictinonary_sudachi.doc2bow(w) for w in sentences_sudachi]"
   ]
  },
  {
   "cell_type": "code",
   "execution_count": 33,
   "metadata": {},
   "outputs": [
    {
     "data": {
      "text/plain": [
       "(38394, 31409)"
      ]
     },
     "execution_count": 33,
     "metadata": {},
     "output_type": "execute_result"
    }
   ],
   "source": [
    "len(dictinonary_mecab), len(dictinonary_sudachi)"
   ]
  },
  {
   "cell_type": "code",
   "execution_count": 34,
   "metadata": {},
   "outputs": [],
   "source": [
    "class Tfidf:\n",
    "    def __init__(self):\n",
    "        self.corpus = None\n",
    "\n",
    "\n",
    "    def create_model(self, corpus, normalize=False):\n",
    "        self.corpus = corpus\n",
    "        self.model = gensim.models.TfidfModel(corpus, normalize=normalize, wglobal=self.normal_idf)\n",
    "\n",
    "    def load_model(self, file_path):\n",
    "        self.model = gensim.models.TfidfModel.load(file_path)\n",
    "\n",
    "    def normal_idf(self, docfreq, totaldocs, log_base=2.0):\n",
    "        \"\"\"\n",
    "          this is a normal idf. gensim's idf does not have + 1.0\n",
    "        \"\"\"\n",
    "        return math.log(1.0 * totaldocs / docfreq, log_base) + 1.0\n",
    "\n",
    "\n",
    "    def get_corpus_tfidf(self, corpus=None):\n",
    "        if corpus is None:\n",
    "            if self.corpus and len(self.corpus) > 0:\n",
    "                corpus = self.corpus\n",
    "            else:\n",
    "                print(\"self.corpus is empty\")\n",
    "                return []\n",
    "        else:\n",
    "            pass\n",
    "        return list(self.model[corpus])\n",
    "\n",
    "\n",
    "    def get_dense_vectors(self, corpus_tfidf, num_terms):\n",
    "        dense = gensim.matutils.corpus2dense(corpus_tfidf, num_terms=num_terms).T\n",
    "        return dense\n",
    "\n",
    "    def get_csc_vectors(self, corpus_tfidf, num_terms):\n",
    "        vectors = gensim.matutils.corpus2csc(corpus_tfidf, num_terms=num_terms).T\n",
    "        return vectors\n",
    "\n",
    "    "
   ]
  },
  {
   "cell_type": "code",
   "execution_count": 35,
   "metadata": {},
   "outputs": [
    {
     "name": "stdout",
     "output_type": "stream",
     "text": [
      "num_terms:  38394\n"
     ]
    }
   ],
   "source": [
    "model_mecab = Tfidf()\n",
    "model_mecab.create_model(corpus_mecab)\n",
    "num_terms_m = len(dictinonary_mecab)\n",
    "print(\"num_terms: \", num_terms_m)\n",
    "vectors_mecab = model_mecab.get_csc_vectors(model_mecab.get_corpus_tfidf(corpus_mecab), num_terms_m)"
   ]
  },
  {
   "cell_type": "code",
   "execution_count": 36,
   "metadata": {},
   "outputs": [
    {
     "name": "stdout",
     "output_type": "stream",
     "text": [
      "num_terms:  31409\n"
     ]
    }
   ],
   "source": [
    "model_sudachi = Tfidf()\n",
    "model_sudachi.create_model(corpus_sudachi)\n",
    "num_terms_s = len(dictinonary_sudachi)\n",
    "print(\"num_terms: \", num_terms_s)\n",
    "vectors_sudachi = model_sudachi.get_csc_vectors(model_sudachi.get_corpus_tfidf(corpus_sudachi), num_terms_s)"
   ]
  },
  {
   "cell_type": "code",
   "execution_count": 37,
   "metadata": {},
   "outputs": [
    {
     "data": {
      "text/plain": [
       "{'LibreOffice',\n",
       " 'よね',\n",
       " 'Schwarzkopf PROFESSIONAL',\n",
       " '完全子会社',\n",
       " '現役時代',\n",
       " 'ヒマワリ',\n",
       " 'ダイエットコーチ',\n",
       " '胸の内',\n",
       " '調度',\n",
       " 'こなせる',\n",
       " '女らしさ',\n",
       " '国内線',\n",
       " 'アタッカーズ',\n",
       " '使用方法',\n",
       " '探せる',\n",
       " '市場価値',\n",
       " 'beam',\n",
       " '天と地',\n",
       " 'Googleショッピング',\n",
       " 'IMAX',\n",
       " 'Columbia Pictures',\n",
       " '総大将',\n",
       " \"N's\",\n",
       " '注視する必要',\n",
       " 'コラボアイテム',\n",
       " 'xD',\n",
       " '操業停止',\n",
       " 'Nathan',\n",
       " 'FNNスーパーニュース',\n",
       " '好きな人',\n",
       " 'Go!',\n",
       " 'ガトーショコラ',\n",
       " 'タダ',\n",
       " 'バックヤード',\n",
       " '体当り',\n",
       " 'clearly',\n",
       " 'ミッション:インポッシブル',\n",
       " 'camera',\n",
       " '苦役',\n",
       " 'miles',\n",
       " '情報処理推進機構',\n",
       " '大炎上',\n",
       " 'イケメンパラダイス',\n",
       " 'エッセンシャルオイル',\n",
       " 'がれ',\n",
       " 'スパイキッズ',\n",
       " 'ホ',\n",
       " 'マイコミジャーナル',\n",
       " 'no3b',\n",
       " 'reader',\n",
       " 'ティム・ディケイ',\n",
       " 'かたわら',\n",
       " 'ファンタジー小説',\n",
       " 'Vライン',\n",
       " '分譲マンション',\n",
       " 'DETOX',\n",
       " 'M・A・C',\n",
       " '恋に落ちた',\n",
       " 'ロープロファイル',\n",
       " 'なでしこ',\n",
       " 'ヒモ',\n",
       " 'ジュニアユース',\n",
       " '小学一年生',\n",
       " 'セイラ',\n",
       " '国家予算',\n",
       " '例のアレ',\n",
       " 'ロケ地',\n",
       " 'ZEUS',\n",
       " 'ポーランド政府',\n",
       " 'ごぼう',\n",
       " 'EDテーマ',\n",
       " 'おもてなし',\n",
       " 'this',\n",
       " '時をかける少女',\n",
       " 'デンゼル・ワシントン',\n",
       " 'シルバーイオンライト',\n",
       " 'リーダー的存在',\n",
       " '生じる',\n",
       " '歩ける',\n",
       " '剥ける',\n",
       " '淹',\n",
       " '愛されるために',\n",
       " '語呂合わせ',\n",
       " 'キッカケ',\n",
       " 'ネットエージェント',\n",
       " '暗黙のルール',\n",
       " 'ボディスーツ',\n",
       " 'とんとん',\n",
       " 'ただ',\n",
       " '反対デモ',\n",
       " '世界大会',\n",
       " '寝つける',\n",
       " '虐める',\n",
       " '人見知り',\n",
       " 'グリーン・ランタン',\n",
       " '学校へ行こう!',\n",
       " 'YU-A',\n",
       " 'popular',\n",
       " '大がかり',\n",
       " 'シャイア・ラブーフ',\n",
       " 'ツカ',\n",
       " 'Google Docs',\n",
       " '浮き',\n",
       " '高橋尚子',\n",
       " 'ハタ',\n",
       " '踏みだす',\n",
       " 'Miranda',\n",
       " 'へこむ',\n",
       " '独立運動',\n",
       " 'フラグシップ',\n",
       " 'セクシー女優',\n",
       " 'history',\n",
       " '大白',\n",
       " 'UNDO',\n",
       " 'サークルカット',\n",
       " 'KT',\n",
       " 'さ',\n",
       " '愛と誠',\n",
       " 'コンビニ弁当',\n",
       " 'からむ',\n",
       " 'はいる',\n",
       " 'くつ',\n",
       " 'ha',\n",
       " 'ベイダー卿',\n",
       " '両面テープ',\n",
       " 'これはすごい',\n",
       " 'Black&White',\n",
       " 'ヤジ',\n",
       " 'オナラ',\n",
       " '連帯責任',\n",
       " '引',\n",
       " 'ヤマ',\n",
       " '天然ボケ',\n",
       " '鶴の湯',\n",
       " '上原美優',\n",
       " 'SPORT',\n",
       " 'Synergy',\n",
       " '弁当男子',\n",
       " 'エックス',\n",
       " 'Vii',\n",
       " 'FIFAランク',\n",
       " 'wrapping',\n",
       " '前田吟',\n",
       " '最初で最後',\n",
       " '祝福ムード',\n",
       " 'いい',\n",
       " 'cm',\n",
       " 'だらける',\n",
       " '文具メーカー',\n",
       " '事業仕分け',\n",
       " 'エンタテインメント',\n",
       " '格好よい',\n",
       " 'キャンペーン期間',\n",
       " '金曜ロードショー',\n",
       " '大掃除',\n",
       " 'ヒーローインタビュー',\n",
       " 'テーラリング',\n",
       " '木佐彩子',\n",
       " 'HAPPY',\n",
       " 'ジェイソン・ステイサム',\n",
       " 'bachelor',\n",
       " '和田アキ子',\n",
       " '展示スペース',\n",
       " '看板作家',\n",
       " '春の訪れ',\n",
       " '跳ぶ',\n",
       " '銃乱射事件',\n",
       " '接す',\n",
       " '言葉通り',\n",
       " 'しゃべれる',\n",
       " 'お父さんは年下',\n",
       " '省',\n",
       " 'ゴールデンウイーク',\n",
       " '白戸家',\n",
       " '出だし',\n",
       " 'ロバート・ゼメキス',\n",
       " 'dialog',\n",
       " 'チャーリーズ・エンジェル',\n",
       " '屈す',\n",
       " 'しくむ',\n",
       " 'PON',\n",
       " '塚原直也',\n",
       " 'CYCLE',\n",
       " 'BLOOD',\n",
       " '意地っ張り',\n",
       " '起源は韓国',\n",
       " '角川シネマ新宿',\n",
       " 'シェネイ・グライムス',\n",
       " 'ガサガサ',\n",
       " '捨て身',\n",
       " '強制捜査',\n",
       " '奮う',\n",
       " 'あいだ',\n",
       " 'StayC',\n",
       " 'output',\n",
       " '押せる',\n",
       " 'エリカ様',\n",
       " '窺える',\n",
       " 'おける',\n",
       " 'アツアツ',\n",
       " 'give',\n",
       " 'ビューワー',\n",
       " '病みつき',\n",
       " '浦和レッズ',\n",
       " 'みる',\n",
       " 'SCENE',\n",
       " 'ぬる',\n",
       " 'ロケタッチ新聞',\n",
       " 'ミツロウ',\n",
       " 'Charlotte',\n",
       " 'ハラハラドキドキ',\n",
       " '言うまでもない',\n",
       " 'ダブルナンバー',\n",
       " 'ドラフト会議',\n",
       " '兵衛',\n",
       " 'ジャムハウス',\n",
       " '科',\n",
       " '眞鍋かをり',\n",
       " '受付',\n",
       " '吸',\n",
       " 'スノボ',\n",
       " '受験シーズン',\n",
       " 'うつ病',\n",
       " 'iPhoneアプリ',\n",
       " '川端康成',\n",
       " '皇帝ペンギン',\n",
       " 'トランスコード',\n",
       " '背中合わせ',\n",
       " '対韓国戦',\n",
       " 'EARTH',\n",
       " '関連画像',\n",
       " '見渡せる',\n",
       " '全国放送',\n",
       " 'cafe',\n",
       " 'はさむ',\n",
       " '堺雅人',\n",
       " '定番料理',\n",
       " 'いなす',\n",
       " 'Alfa Romeo',\n",
       " 'しそう',\n",
       " '松岡氏',\n",
       " 'Ttime!',\n",
       " 'アキバシアター',\n",
       " 'ウォルト・ディズニー・ジャパン',\n",
       " 'ありふれる',\n",
       " '何度も',\n",
       " '最新アルバム',\n",
       " '国歌斉唱',\n",
       " 'マリン・アッカーマン',\n",
       " 'ミヤネ屋',\n",
       " 'ゆでる',\n",
       " 'メインキャスト',\n",
       " 'JOIN',\n",
       " 'ゲームバランス',\n",
       " 'ヤロー',\n",
       " '久保ミツロウ',\n",
       " 'Googleドキュメント',\n",
       " 'ゲーアプリ',\n",
       " '理想の彼氏',\n",
       " '厚底ブーツ',\n",
       " 'レオン・S・ケネディ',\n",
       " '美術賞',\n",
       " 'DQNネーム',\n",
       " '小西真奈美',\n",
       " '恋愛体質',\n",
       " '共同購入',\n",
       " '虚しい',\n",
       " '向け',\n",
       " '新宿高野',\n",
       " '球団側',\n",
       " '宴のあと',\n",
       " 'アン・ハサウェイ',\n",
       " '予告動画',\n",
       " '諸星和己',\n",
       " 'BEAM',\n",
       " '払しょく',\n",
       " 'キャサリン妃',\n",
       " 'calpis',\n",
       " '夏美',\n",
       " '特攻隊長',\n",
       " '本人確認',\n",
       " '立ちあがる',\n",
       " 'じれったい',\n",
       " 'ラストオーダー',\n",
       " 'H.',\n",
       " 'ビデオ信号',\n",
       " '買える',\n",
       " '韓国料理店',\n",
       " '清武英利',\n",
       " '尾崎好美',\n",
       " '田原総一朗',\n",
       " '迫田さおり',\n",
       " 'マーク・ザッカーバーグ',\n",
       " 'レイアウトフリー',\n",
       " 'GENESIS',\n",
       " 'ソフトバンクモバイル',\n",
       " 'つかまえる',\n",
       " 'BODYLINE',\n",
       " 'どうし',\n",
       " 'Eクラス',\n",
       " '撮影現場',\n",
       " 'ご覧',\n",
       " '人気作品',\n",
       " '孫正義',\n",
       " 'おおらか',\n",
       " '#ハッシュタグ',\n",
       " '松潤',\n",
       " '中国科学院',\n",
       " 'nozomi',\n",
       " '習い',\n",
       " '赤塚不二夫',\n",
       " 'はてなブックマーク',\n",
       " 'エクスモア',\n",
       " '織りなす',\n",
       " 'ピナ・バウシュ',\n",
       " 'ジミ',\n",
       " '読売テレビ',\n",
       " 'DVDプレーヤー',\n",
       " '観客動員数',\n",
       " 'ノンアルコールカクテル',\n",
       " 'デカ',\n",
       " 'ToDo',\n",
       " '無惨',\n",
       " 'お答え',\n",
       " 'powered',\n",
       " '食事制限',\n",
       " 'フランス大会',\n",
       " 'J-PHONE',\n",
       " '引きずる',\n",
       " 'そのほか',\n",
       " 'エコバック',\n",
       " 'てこ',\n",
       " '抑える',\n",
       " '知れ渡る',\n",
       " 'フェイスマスク',\n",
       " 'software',\n",
       " '高い位置',\n",
       " 'ジェルネイル',\n",
       " 'めくるめく',\n",
       " 'ジュリア・チャイルド',\n",
       " '覚せい',\n",
       " '同点ゴール',\n",
       " 'VAAM',\n",
       " '恋の季節',\n",
       " '伸ばせる',\n",
       " 'やり直し',\n",
       " 'マコーレー・カルキン',\n",
       " '磯野貴理子',\n",
       " '義援金',\n",
       " '販売開始',\n",
       " 'タカシマヤアムール・ド・ショコラ',\n",
       " 'はん',\n",
       " '追いつく',\n",
       " '減らす',\n",
       " '思わしくない',\n",
       " '生蕎麦',\n",
       " 'イモ',\n",
       " 'Metro UI',\n",
       " 'スピードワゴン',\n",
       " '飯食い',\n",
       " '来シーズン',\n",
       " 'LAN DISK',\n",
       " 'ひと休み',\n",
       " '八木かなえ',\n",
       " 'ショルダー・タックル',\n",
       " 'メアド',\n",
       " 'シニア向け',\n",
       " 'いくら',\n",
       " '好感触',\n",
       " 'DELI',\n",
       " 'Deserve',\n",
       " 'ヘコ',\n",
       " '世過ぎ',\n",
       " 'WALL',\n",
       " 'leader',\n",
       " '少林サッカー',\n",
       " 'cuore',\n",
       " '災害救助法',\n",
       " 'ハンギョレ新聞',\n",
       " 'LEXUS',\n",
       " 'かじる',\n",
       " '教育改革',\n",
       " '明石家サンタ',\n",
       " 'はみ出す',\n",
       " 'ue',\n",
       " 'とおい',\n",
       " 'Airy',\n",
       " 'くり抜く',\n",
       " 'ワールド・グレイツ',\n",
       " 'まとめ買い',\n",
       " '巻物',\n",
       " 'サッカー欧州選手権',\n",
       " '焼ける',\n",
       " '取替える',\n",
       " '月と太陽',\n",
       " 'I Want You',\n",
       " '広告業界',\n",
       " '最高指導者',\n",
       " 'tudio',\n",
       " '組み立る',\n",
       " 'サービスセンター',\n",
       " '詩歌',\n",
       " '募集要項',\n",
       " 'はじまる',\n",
       " 'らん',\n",
       " '吊り輪',\n",
       " 'オンラインストア',\n",
       " '浦和レッズレディース',\n",
       " 'はめ込む',\n",
       " 'はや',\n",
       " 'イベント会場',\n",
       " 'そうじゃない',\n",
       " '鳥越俊太郎',\n",
       " 'shooting',\n",
       " 'SIGMA',\n",
       " 'banila co.',\n",
       " '下着メーカー',\n",
       " 'ファイルマネージャ',\n",
       " 'grand',\n",
       " '犯罪予備軍',\n",
       " '日本戦',\n",
       " 'dead',\n",
       " '木村沙織',\n",
       " 'コーンポタージュ',\n",
       " '満つ',\n",
       " '編集担当',\n",
       " '広告写真',\n",
       " '高山植物',\n",
       " '椿鬼奴',\n",
       " 'パワード・スーツ',\n",
       " 'ブリジット・ジョーンズの日記',\n",
       " 'なんだろう',\n",
       " 'あてる',\n",
       " 'bf',\n",
       " '女性蔑視',\n",
       " 'かつおぶし',\n",
       " '勤怠',\n",
       " '幸せへのキセキ',\n",
       " 'ほっとく',\n",
       " 'MMD',\n",
       " '財前宣之',\n",
       " 'ゆきさん',\n",
       " '松本潤',\n",
       " 'SWAROVSKI',\n",
       " 'StilLas',\n",
       " '関塚ジャパン',\n",
       " '木下優樹菜',\n",
       " 'クライマックスシリーズ',\n",
       " 'SHINee',\n",
       " '交じり',\n",
       " 'つや消し',\n",
       " '清水翔太',\n",
       " 'J-ライヴ',\n",
       " 'クリステン・スチュワート',\n",
       " '漬け',\n",
       " '年末商戦',\n",
       " 'アダム・シャンクマン',\n",
       " 'ひらがな',\n",
       " '文化の違い',\n",
       " 'アジア大会',\n",
       " '中村俊輔',\n",
       " 'ゼスチャー',\n",
       " 'why',\n",
       " '読み取れる',\n",
       " '初舞台',\n",
       " 'いたわる',\n",
       " 'アポロ計画',\n",
       " 'メイキング映像',\n",
       " 'たんぽぽ',\n",
       " '医療用',\n",
       " 'シリアルナンバー',\n",
       " '抱ける',\n",
       " '賭博黙示録カイジ',\n",
       " 'がらみ',\n",
       " 'マイケル・モーパーゴ',\n",
       " 'ふとる',\n",
       " 'ヒゲ剃り',\n",
       " 'Mark II',\n",
       " '数多い',\n",
       " '事細かい',\n",
       " 'ごたえ',\n",
       " 'プレイボール',\n",
       " '秋の童話',\n",
       " '造る',\n",
       " '反す',\n",
       " '料理本',\n",
       " '限定商品',\n",
       " '観光スポット',\n",
       " '風になりたい',\n",
       " 'ずみ',\n",
       " 'いるよ',\n",
       " '生かせる',\n",
       " 'いかが',\n",
       " 'MMD動画',\n",
       " 'バックリベンジ',\n",
       " '第一次世界大戦',\n",
       " 'その家族',\n",
       " '食品サンプル',\n",
       " 'おわび',\n",
       " 'タンタンの冒険',\n",
       " '介す',\n",
       " '百年戦争',\n",
       " 'セーブ・ザ・チルドレン・ジャパン',\n",
       " 'ポーラ・クリーマー',\n",
       " '古代遺跡',\n",
       " 'what',\n",
       " '秘密兵器',\n",
       " 'ワンセグ視聴',\n",
       " '印象深い',\n",
       " 'ライトユーザー',\n",
       " '形骸',\n",
       " '宮田亜紀',\n",
       " '基地局',\n",
       " '打合せ',\n",
       " 'LOGAN/ローガン',\n",
       " '第2の人生',\n",
       " 'red star',\n",
       " 'スルメ',\n",
       " '東急東横線',\n",
       " '国民の声',\n",
       " '平井理央',\n",
       " 'codec',\n",
       " '青春映画',\n",
       " 'ざく',\n",
       " '人ごみ',\n",
       " 'アフターヌーン',\n",
       " 'pages',\n",
       " 'ハリー・ポッターと死の秘宝',\n",
       " 'しあわせ',\n",
       " '日中友好',\n",
       " '一周',\n",
       " 'すべらない話',\n",
       " '濱田龍臣',\n",
       " '不正ログイン',\n",
       " '835 Olivia',\n",
       " 'bump.y',\n",
       " 'チサ',\n",
       " '今さら',\n",
       " '急ブレーキ',\n",
       " '韓国料理',\n",
       " '有料放送',\n",
       " '生涯未婚率',\n",
       " '照らす',\n",
       " 'アニメ作品',\n",
       " '花蕾',\n",
       " 'Underware',\n",
       " '週刊大衆',\n",
       " '麻雀',\n",
       " '揚げパン',\n",
       " 'AROMA',\n",
       " 'AKKO',\n",
       " 'auto',\n",
       " 'YAVAY',\n",
       " '言い難い',\n",
       " 'カッコ',\n",
       " 'がに股',\n",
       " 'B.O.Y.S',\n",
       " '海外市場',\n",
       " 'ばり',\n",
       " '通常盤',\n",
       " 'エンターテインメント・ウィークリー',\n",
       " 'ハリー・ポッター',\n",
       " '徳光和夫',\n",
       " '秋元優里',\n",
       " 'NHKスペシャル',\n",
       " 'お詫び',\n",
       " '彷徨',\n",
       " \"COFFRET D'OR\",\n",
       " 'ジェシカ・チャステイン',\n",
       " '照明器具',\n",
       " '防',\n",
       " 'TREND MICRO',\n",
       " '閉塞感',\n",
       " '山ガール',\n",
       " 'キャスト陣',\n",
       " '火山灰',\n",
       " '模糊',\n",
       " '本木克英',\n",
       " '恋愛相談',\n",
       " '相反',\n",
       " '写真編集',\n",
       " 'まとまる',\n",
       " 'お風呂あがり',\n",
       " '一曲',\n",
       " '言いふらす',\n",
       " '笑',\n",
       " '篠崎愛',\n",
       " 'イチオシ!!',\n",
       " 'しっぽ',\n",
       " '探し当てる',\n",
       " 'テロ事件',\n",
       " '公式ホームページ',\n",
       " 'インターネットサービス',\n",
       " 'パワフルスマホ',\n",
       " '1seg',\n",
       " 'Dom Pérignon',\n",
       " 'ツッコミ',\n",
       " 'ear',\n",
       " '林遣都',\n",
       " 'ハラ',\n",
       " 'ジェシカ・アルバ',\n",
       " '野田首相',\n",
       " 'データプランライト',\n",
       " '舞台挨拶',\n",
       " 'ウィット',\n",
       " '綾野剛',\n",
       " 'ROI',\n",
       " 'ミドルシュート',\n",
       " 'Apple TV',\n",
       " '逆転裁判',\n",
       " '猿の惑星',\n",
       " '朗読会',\n",
       " 'シェアハウス',\n",
       " '現代アート',\n",
       " '映画会社',\n",
       " 'デニス・サッチャー',\n",
       " '野田内閣',\n",
       " 'ヒョン・ミンウ',\n",
       " '藤森慎吾',\n",
       " '和三盆',\n",
       " '年度代表馬',\n",
       " 'マイケル・ベイ',\n",
       " 'ヘルプ~心がつなぐストーリー~',\n",
       " 'てる',\n",
       " '面倒い',\n",
       " '富士桜',\n",
       " '信じる',\n",
       " 'ごい',\n",
       " '異常事態',\n",
       " '猫のように',\n",
       " 'BEST',\n",
       " 'ハイダイナミックレンジ合成',\n",
       " '幸福度',\n",
       " 'でる',\n",
       " '氷川きよし',\n",
       " 'いたむ',\n",
       " '発売元',\n",
       " '海外組',\n",
       " 'ホームタイプルータ',\n",
       " '瀬戸内',\n",
       " '報道ステーションSUNDAY',\n",
       " 'miniUSB',\n",
       " 'onna',\n",
       " 'もれ',\n",
       " 'いただく',\n",
       " '杉崎美香',\n",
       " 'ジャンボ尾崎',\n",
       " 'Google I/O',\n",
       " 'リンパマッサージ',\n",
       " 'フレンチネイル',\n",
       " 'アンディ',\n",
       " 'トンネル内',\n",
       " 'GET SPORTS',\n",
       " 'With',\n",
       " 'ヤシ',\n",
       " 'THE VOICE',\n",
       " '宝島社',\n",
       " '黒柳徹子',\n",
       " 'LOUD',\n",
       " '踊れる',\n",
       " 'ピカ',\n",
       " 'ナン',\n",
       " 'ヒヤヒヤ',\n",
       " 'T-ARA',\n",
       " '玉井杏奈',\n",
       " '取りつける',\n",
       " '鈴木奈々',\n",
       " '作れる',\n",
       " '岩隈久志',\n",
       " 'Bセグメント',\n",
       " '冠番組',\n",
       " 'Major League',\n",
       " '仙台市内',\n",
       " 'After Effects',\n",
       " '倉',\n",
       " 'ニュースビューアアプリ',\n",
       " '黒木瞳',\n",
       " 'アーサー・コナン・ドイル',\n",
       " 'ワイン産地',\n",
       " '生チョコ',\n",
       " 'バレーボール全日本女子',\n",
       " '桃葉',\n",
       " '周辺地域',\n",
       " 'designs',\n",
       " '感じとる',\n",
       " 'スーパー戦隊',\n",
       " 'もか',\n",
       " 'あなたへ',\n",
       " '販売再開',\n",
       " 'カバ',\n",
       " 'タン',\n",
       " 'ESTNATION',\n",
       " 'BURTON',\n",
       " '出し手',\n",
       " 'ヒュー・ジャックマン',\n",
       " 'TASCAM',\n",
       " 'ハシゴ',\n",
       " 'Hot Pepper',\n",
       " 'これはいい',\n",
       " '換える',\n",
       " '大型アップデート',\n",
       " '胃もたれ',\n",
       " 'バストアップ',\n",
       " 'posted',\n",
       " '左サイド',\n",
       " 'っ子',\n",
       " '見いだす',\n",
       " '新しい時代',\n",
       " 'たのしい',\n",
       " '携帯機器',\n",
       " 'どなた',\n",
       " 'モバイルルーター',\n",
       " '女優ミラー',\n",
       " 'NHK大河ドラマ',\n",
       " 'Nikon',\n",
       " 'SEA',\n",
       " '葬',\n",
       " '使いこなせる',\n",
       " '人種差別',\n",
       " 'N・O',\n",
       " 'JR線',\n",
       " '大正製薬',\n",
       " 'Mega',\n",
       " 'JUST',\n",
       " 'きやすい',\n",
       " '購入金額',\n",
       " '特別映像',\n",
       " '文筆',\n",
       " 'アンディ・ウォーホル',\n",
       " 'SELECT',\n",
       " 'studio',\n",
       " 'デイリーチャート',\n",
       " '西村雅彦',\n",
       " '渡せる',\n",
       " 'ばった',\n",
       " '前期課程',\n",
       " 'BS-TBS',\n",
       " '行える',\n",
       " '気持ち良い',\n",
       " 'イマイチ',\n",
       " 'end',\n",
       " 'ROC STAR',\n",
       " 'カエデ',\n",
       " 'ちゅら',\n",
       " 'sweet',\n",
       " 'W-CDMA',\n",
       " 'VECUA',\n",
       " '彷彿',\n",
       " 'エイドリアン・チェオク',\n",
       " 'winter',\n",
       " '思い出深い',\n",
       " 'Hennessy',\n",
       " 'ピック',\n",
       " 'ディズニー作品',\n",
       " 'ぶっこ',\n",
       " 'あやす',\n",
       " 'レモン汁',\n",
       " 'エネルギー政策',\n",
       " '利用制限',\n",
       " 'cab',\n",
       " '国際結婚',\n",
       " 'なかの',\n",
       " '小池徹平',\n",
       " '頭が上がらない',\n",
       " 'friends',\n",
       " 'GIGA',\n",
       " '撮像素子',\n",
       " 'リーグ優勝',\n",
       " '映像作家',\n",
       " '律す',\n",
       " 'bm×bio',\n",
       " 'スキャナ',\n",
       " '遭う',\n",
       " '受取',\n",
       " 'ダイヤモンド・ビッグアンドリード',\n",
       " '佐藤かよ',\n",
       " '料理番組',\n",
       " 'オートフィル',\n",
       " 'プロセッサ',\n",
       " '肉食女子',\n",
       " 'どる',\n",
       " 'Flower',\n",
       " '運命の元カレ',\n",
       " '情報サービス',\n",
       " 'MODS',\n",
       " '調べ',\n",
       " 'ボウル',\n",
       " 'SQUAT',\n",
       " 'URBANO',\n",
       " 'セブ島',\n",
       " 'VIVIT',\n",
       " '天下統一',\n",
       " '通信回線',\n",
       " 'color',\n",
       " '戦後日本',\n",
       " 'ロードムービー',\n",
       " '波乱万丈',\n",
       " '防災グッズ',\n",
       " 'Raw',\n",
       " 'アイスクリームメーカー',\n",
       " 'Beats by Dr Dre',\n",
       " 'PURPLE',\n",
       " 'warrior',\n",
       " 'WAR-ED',\n",
       " '自然エネルギー',\n",
       " 'カン・ヒョンチョル',\n",
       " 'ショーン・コネリー',\n",
       " 'ラブ・ラボ',\n",
       " '最終赤字',\n",
       " 'サブカル系',\n",
       " 'もののけ姫',\n",
       " 'SHAKE',\n",
       " '通いつめる',\n",
       " \"MEN'S NON-NO\",\n",
       " 'ノミ',\n",
       " '仮想移動体通信事業者',\n",
       " 'タロット占い',\n",
       " 'ヴァイオレット',\n",
       " '悩み相談',\n",
       " 'CLOUD',\n",
       " '中島裕之',\n",
       " '舐める',\n",
       " 'ゴハン',\n",
       " 'ビジュアル系',\n",
       " 'Red Sox',\n",
       " '悪い意味',\n",
       " 'ジェネシス・ロドリゲス',\n",
       " '劇場版BLOOD-C The Last Dark',\n",
       " '納める',\n",
       " 'ブラック・アンド・デッカー',\n",
       " 'よく',\n",
       " 'くまのプーさん',\n",
       " 'リース・イーヴァンズ',\n",
       " 'HEAT UP',\n",
       " '底抜けに',\n",
       " '打ち合う',\n",
       " '選抜総選挙',\n",
       " '被害妄想',\n",
       " 'これだけ',\n",
       " 'ディズニー・ドリーム',\n",
       " '見やすい',\n",
       " 'シガーソケット',\n",
       " '神様',\n",
       " 'かつお',\n",
       " 'Dropbox',\n",
       " 'PCケース',\n",
       " '恋愛映画',\n",
       " '広島吉本',\n",
       " 'ゲリラ豪雨',\n",
       " 'よそよそしい',\n",
       " 'prs',\n",
       " 'おせっかい',\n",
       " 'バロメータ',\n",
       " '勇',\n",
       " 'がれき処理',\n",
       " 'ドラゴン・タトゥーの女',\n",
       " '社交辞令',\n",
       " '辛抱強い',\n",
       " '其の様',\n",
       " '中山優馬',\n",
       " 'きわまる',\n",
       " '韓国ソウル',\n",
       " '得票数',\n",
       " '週刊アサヒ芸能',\n",
       " 'ジュリー&ジュリア',\n",
       " 'かけ離れる',\n",
       " '増加傾向',\n",
       " '現地時間',\n",
       " 'work',\n",
       " '狂わせる',\n",
       " 'TOMOMI',\n",
       " 'ラインナップ',\n",
       " 'まぶしさ',\n",
       " 'presence',\n",
       " 'ガタ',\n",
       " 'クオリティ・オブ・ライフ',\n",
       " 'なかよし',\n",
       " 'アダプタ',\n",
       " '山根康宏',\n",
       " 'ご馳走',\n",
       " '離散',\n",
       " 'かわる',\n",
       " '自己犠牲',\n",
       " 'アクセス数',\n",
       " '侮れる',\n",
       " 'ふためく',\n",
       " 'ムカデ人間',\n",
       " '先行公開',\n",
       " '過敏性腸症候群',\n",
       " '草食系男子',\n",
       " '米メディア',\n",
       " '最新記事',\n",
       " '協',\n",
       " '韓国日報',\n",
       " '電子コンパス',\n",
       " '陽運寺',\n",
       " 'グローバルな',\n",
       " '放送回',\n",
       " 'あったかい',\n",
       " '総合司会',\n",
       " '生出演',\n",
       " '落ちつく',\n",
       " '秋元才加',\n",
       " '表す',\n",
       " 'ZIPPEI',\n",
       " 'セキュリティアドバイザ',\n",
       " '持ちかける',\n",
       " 'さい',\n",
       " '問題意識',\n",
       " 'ハムスター速報',\n",
       " 'ウォッチ!',\n",
       " 'あさイチ',\n",
       " 'UST',\n",
       " '宮本信子',\n",
       " '殿堂入り',\n",
       " 'ドラックストア',\n",
       " '松嶋菜々子',\n",
       " 'あやしい',\n",
       " 'ホラー映画',\n",
       " '硬さ',\n",
       " 'リチウムイオン充電池',\n",
       " 'くるう',\n",
       " 'ソーシャルアプリ',\n",
       " '丸山隆平',\n",
       " 'Amazon Kindle',\n",
       " 'PCI Express',\n",
       " 'わり',\n",
       " 'MMAPLANET',\n",
       " '裁判員裁判',\n",
       " '能率',\n",
       " 'はやい',\n",
       " 'PLUS',\n",
       " 'IN LOVE',\n",
       " '松田直樹',\n",
       " 'アッコにおまかせ!',\n",
       " 'pdf',\n",
       " 'リニアPCM',\n",
       " '降り立つ',\n",
       " 'あど',\n",
       " 'エサ',\n",
       " 'Apple Store',\n",
       " '井上康生',\n",
       " '計画通り',\n",
       " '女性目線',\n",
       " 'Edition',\n",
       " 'キネマ旬報社',\n",
       " '日本大学芸術学部',\n",
       " '丸の内ルーブル',\n",
       " 'JUSTIN',\n",
       " 'スカイウォーリー',\n",
       " '立ち寄れる',\n",
       " '意思表示',\n",
       " '組織内',\n",
       " '韓国ネチズン',\n",
       " '倖田來未',\n",
       " 'アンタ',\n",
       " '蛍原徹',\n",
       " '万の',\n",
       " '食物繊維',\n",
       " '再登場',\n",
       " 'あの男',\n",
       " 'カナダ代表',\n",
       " '並み',\n",
       " 'ゴワゴワ',\n",
       " 'マイナス成長',\n",
       " 'care',\n",
       " '単独行動',\n",
       " '浅野忠信',\n",
       " 'ひめる',\n",
       " '田中陽子',\n",
       " 'ロンブー淳',\n",
       " 'ミッドレンジ',\n",
       " 'まとめ記事',\n",
       " '金億',\n",
       " '所属事務所',\n",
       " 'KOU',\n",
       " 'いづ',\n",
       " 'フォトアルバム',\n",
       " '滅ぼす',\n",
       " '鍾乳洞',\n",
       " '奪三振',\n",
       " 'NINE',\n",
       " '頼れる',\n",
       " 'professional',\n",
       " 'おうし座',\n",
       " '持ち歩ける',\n",
       " 'どうなる?',\n",
       " 'ささやく',\n",
       " '三陸沖',\n",
       " '導',\n",
       " 'アニメ映画',\n",
       " '動き出す',\n",
       " '銘じる',\n",
       " 'auショップ',\n",
       " 'お洒落',\n",
       " '演歌歌手',\n",
       " '中川翔子',\n",
       " 'IOPE',\n",
       " 'THE BIKE',\n",
       " 'しようよ',\n",
       " ...}"
      ]
     },
     "execution_count": 37,
     "metadata": {},
     "output_type": "execute_result"
    }
   ],
   "source": [
    "set(dictinonary_mecab.token2id.keys()) - set(dictinonary_sudachi.token2id.keys())"
   ]
  },
  {
   "cell_type": "code",
   "execution_count": 38,
   "metadata": {},
   "outputs": [],
   "source": [
    "sentences_mecab_test = [mecab_tokenizer.tokenize(normalize(s)) for s in X_text_test]\n",
    "corpus_mecab_test = [dictinonary_mecab.doc2bow(w) for w in sentences_mecab_test]\n",
    "vectors_test_mecab = model_mecab.get_csc_vectors(model_mecab.get_corpus_tfidf(corpus_mecab_test), num_terms_m)"
   ]
  },
  {
   "cell_type": "code",
   "execution_count": 39,
   "metadata": {},
   "outputs": [],
   "source": [
    "sentences_sudachi_test = [sudachi_tokenizer.tokenize(normalize(s)) for s in X_text_test]\n",
    "corpus_sudachi_test = [dictinonary_sudachi.doc2bow(w) for w in sentences_sudachi_test]\n",
    "vectors_test_sudachi = model_sudachi.get_csc_vectors(model_sudachi.get_corpus_tfidf(corpus_sudachi_test), num_terms_s)"
   ]
  },
  {
   "cell_type": "code",
   "execution_count": null,
   "metadata": {},
   "outputs": [],
   "source": []
  },
  {
   "cell_type": "markdown",
   "metadata": {},
   "source": [
    "## classify by LogisticRegression"
   ]
  },
  {
   "cell_type": "code",
   "execution_count": 40,
   "metadata": {},
   "outputs": [],
   "source": [
    "def plot_confusion_matrix(test_y,pred_y,class_names,normalize=False):\n",
    "\n",
    "    cm = confusion_matrix(test_y,pred_y)\n",
    "    classes = class_names\n",
    "    if normalize:\n",
    "        cm = cm.astype('float') / cm.sum(axis=1)[:, np.newaxis]\n",
    "    fig, ax = plt.subplots()\n",
    "    im = ax.imshow(cm, interpolation='nearest', cmap=plt.cm.Blues)\n",
    "    ax.figure.colorbar(im, ax=ax)\n",
    "    ax.set(xticks=np.arange(cm.shape[1]),\n",
    "           yticks=np.arange(cm.shape[0]),\n",
    "           xticklabels=classes,\n",
    "           yticklabels=classes,\n",
    "           ylabel='True label\\n',\n",
    "           xlabel='\\nPredicted label')\n",
    "    fmt = '.2f' if normalize else 'd'\n",
    "    for i in range(cm.shape[0]):\n",
    "        for j in range(cm.shape[1]):\n",
    "            ax.text(j,\n",
    "                    i,\n",
    "                    format(cm[i, j], fmt),\n",
    "                    ha=\"center\",\n",
    "                    va=\"center\")\n",
    "    fig.tight_layout()\n",
    "    return ax"
   ]
  },
  {
   "cell_type": "code",
   "execution_count": 41,
   "metadata": {},
   "outputs": [
    {
     "name": "stderr",
     "output_type": "stream",
     "text": [
      "/Users/tdual/opt/anaconda3/envs/py3.6/lib/python3.6/site-packages/sklearn/linear_model/logistic.py:432: FutureWarning: Default solver will be changed to 'lbfgs' in 0.22. Specify a solver to silence this warning.\n",
      "  FutureWarning)\n",
      "/Users/tdual/opt/anaconda3/envs/py3.6/lib/python3.6/site-packages/sklearn/linear_model/logistic.py:469: FutureWarning: Default multi_class will be changed to 'auto' in 0.22. Specify the multi_class option to silence this warning.\n",
      "  \"this warning.\", FutureWarning)\n"
     ]
    },
    {
     "data": {
      "text/plain": [
       "LogisticRegression(C=1.0, class_weight=None, dual=False, fit_intercept=True,\n",
       "                   intercept_scaling=1, l1_ratio=None, max_iter=100,\n",
       "                   multi_class='warn', n_jobs=None, penalty='l2',\n",
       "                   random_state=None, solver='warn', tol=0.0001, verbose=0,\n",
       "                   warm_start=False)"
      ]
     },
     "execution_count": 41,
     "metadata": {},
     "output_type": "execute_result"
    }
   ],
   "source": [
    "clf_m = LogisticRegression()\n",
    "clf_m.fit(vectors_mecab, y_train)"
   ]
  },
  {
   "cell_type": "code",
   "execution_count": 42,
   "metadata": {},
   "outputs": [],
   "source": [
    "class_names = clf_m.classes_"
   ]
  },
  {
   "cell_type": "code",
   "execution_count": 43,
   "metadata": {},
   "outputs": [],
   "source": [
    "x_test = vectors_test_mecab"
   ]
  },
  {
   "cell_type": "code",
   "execution_count": 44,
   "metadata": {},
   "outputs": [
    {
     "name": "stdout",
     "output_type": "stream",
     "text": [
      "acc:  0.9436008676789588\n",
      "macro recall:  0.9370478971545325\n",
      "macro precision:  0.943172794512064\n"
     ]
    },
    {
     "data": {
      "text/plain": [
       "<matplotlib.axes._subplots.AxesSubplot at 0x7fc22b974780>"
      ]
     },
     "execution_count": 44,
     "metadata": {},
     "output_type": "execute_result"
    },
    {
     "data": {
      "image/png": "[encoded data removed]",
      "text/plain": [
       "<Figure size 432x288 with 2 Axes>"
      ]
     },
     "metadata": {
      "needs_background": "light"
     },
     "output_type": "display_data"
    }
   ],
   "source": [
    "print(\"acc: \", clf_m.score(x_test, y_test))  \n",
    "test_pred = clf_m.predict(x_test)\n",
    "print(\"macro recall: \", recall_score(y_test, test_pred, average=\"macro\"))\n",
    "print(\"macro precision: \", precision_score(y_test, test_pred, average=\"macro\"))\n",
    "plot_confusion_matrix(y_test, test_pred, class_names,normalize=False)"
   ]
  },
  {
   "cell_type": "code",
   "execution_count": 45,
   "metadata": {},
   "outputs": [
    {
     "data": {
      "text/plain": [
       "LogisticRegression(C=1.0, class_weight=None, dual=False, fit_intercept=True,\n",
       "                   intercept_scaling=1, l1_ratio=None, max_iter=100,\n",
       "                   multi_class='warn', n_jobs=None, penalty='l2',\n",
       "                   random_state=None, solver='warn', tol=0.0001, verbose=0,\n",
       "                   warm_start=False)"
      ]
     },
     "execution_count": 45,
     "metadata": {},
     "output_type": "execute_result"
    }
   ],
   "source": [
    "clf_s = LogisticRegression()\n",
    "clf_s.fit(vectors_sudachi, y_train)"
   ]
  },
  {
   "cell_type": "code",
   "execution_count": 46,
   "metadata": {},
   "outputs": [
    {
     "data": {
      "text/plain": [
       "(1844, 31409)"
      ]
     },
     "execution_count": 46,
     "metadata": {},
     "output_type": "execute_result"
    }
   ],
   "source": [
    "x_test = vectors_test_sudachi\n",
    "x_test.shape"
   ]
  },
  {
   "cell_type": "code",
   "execution_count": 47,
   "metadata": {},
   "outputs": [
    {
     "name": "stdout",
     "output_type": "stream",
     "text": [
      "acc:  0.9354663774403471\n",
      "macro recall:  0.9279288417840194\n",
      "macro precision:  0.9325794712683491\n"
     ]
    },
    {
     "data": {
      "text/plain": [
       "<matplotlib.axes._subplots.AxesSubplot at 0x7fc228dd68d0>"
      ]
     },
     "execution_count": 47,
     "metadata": {},
     "output_type": "execute_result"
    },
    {
     "data": {
      "image/png": "[encoded data removed]",
      "text/plain": [
       "<Figure size 432x288 with 2 Axes>"
      ]
     },
     "metadata": {
      "needs_background": "light"
     },
     "output_type": "display_data"
    }
   ],
   "source": [
    "print(\"acc: \", clf_s.score(x_test, y_test))  \n",
    "test_pred = clf_s.predict(x_test)\n",
    "print(\"macro recall: \", recall_score(y_test, test_pred, average=\"macro\"))\n",
    "print(\"macro precision: \", precision_score(y_test, test_pred, average=\"macro\"))\n",
    "plot_confusion_matrix(y_test, test_pred, class_names, normalize=False)"
   ]
  },
  {
   "cell_type": "code",
   "execution_count": 48,
   "metadata": {},
   "outputs": [],
   "source": [
    "! say Done"
   ]
  },
  {
   "cell_type": "code",
   "execution_count": 49,
   "metadata": {},
   "outputs": [
    {
     "data": {
      "text/plain": [
       "(38394, 31409)"
      ]
     },
     "execution_count": 49,
     "metadata": {},
     "output_type": "execute_result"
    }
   ],
   "source": [
    "len(dictinonary_mecab), len(dictinonary_sudachi)"
   ]
  },
  {
   "cell_type": "code",
   "execution_count": 58,
   "metadata": {},
   "outputs": [],
   "source": [
    "diff = set(dictinonary_mecab.token2id.keys())  - set(dictinonary_sudachi.token2id.keys()) "
   ]
  },
  {
   "cell_type": "code",
   "execution_count": 66,
   "metadata": {},
   "outputs": [
    {
     "data": {
      "text/plain": [
       "15768"
      ]
     },
     "execution_count": 66,
     "metadata": {},
     "output_type": "execute_result"
    }
   ],
   "source": [
    "len(diff)"
   ]
  },
  {
   "cell_type": "code",
   "execution_count": 64,
   "metadata": {
    "scrolled": true
   },
   "outputs": [
    {
     "data": {
      "text/plain": [
       "['LibreOffice',\n",
       " 'よね',\n",
       " 'Schwarzkopf PROFESSIONAL',\n",
       " '完全子会社',\n",
       " '現役時代',\n",
       " 'ヒマワリ',\n",
       " 'ダイエットコーチ',\n",
       " '胸の内',\n",
       " '調度',\n",
       " 'こなせる',\n",
       " '女らしさ',\n",
       " '国内線',\n",
       " 'アタッカーズ',\n",
       " '使用方法',\n",
       " '探せる',\n",
       " '市場価値',\n",
       " 'beam',\n",
       " '天と地',\n",
       " 'Googleショッピング',\n",
       " 'IMAX']"
      ]
     },
     "execution_count": 64,
     "metadata": {},
     "output_type": "execute_result"
    }
   ],
   "source": [
    "list(diff)[:20]"
   ]
  },
  {
   "cell_type": "code",
   "execution_count": 60,
   "metadata": {},
   "outputs": [],
   "source": [
    "diff_2 = set(dictinonary_sudachi.token2id.keys()) - set(dictinonary_mecab.token2id.keys())  "
   ]
  },
  {
   "cell_type": "code",
   "execution_count": 67,
   "metadata": {},
   "outputs": [
    {
     "data": {
      "text/plain": [
       "8783"
      ]
     },
     "execution_count": 67,
     "metadata": {},
     "output_type": "execute_result"
    }
   ],
   "source": [
    "len(diff_2)"
   ]
  },
  {
   "cell_type": "code",
   "execution_count": 68,
   "metadata": {},
   "outputs": [
    {
     "data": {
      "text/plain": [
       "['カナエ',\n",
       " '言い掛ける',\n",
       " '掬い投げ',\n",
       " 'ut',\n",
       " '潤一',\n",
       " '満身',\n",
       " 'PWM',\n",
       " 'エアオファー',\n",
       " '馬鹿馬鹿しい',\n",
       " 'ホワット',\n",
       " 'ツインズ',\n",
       " '根岸',\n",
       " 'fight',\n",
       " 'ルネサンス',\n",
       " '小泉',\n",
       " '求め合う',\n",
       " 'may',\n",
       " 'アソシエーション',\n",
       " '弘行',\n",
       " '生野']"
      ]
     },
     "execution_count": 68,
     "metadata": {},
     "output_type": "execute_result"
    }
   ],
   "source": [
    "list(diff_2)[:20]"
   ]
  },
  {
   "cell_type": "code",
   "execution_count": null,
   "metadata": {},
   "outputs": [],
   "source": []
  }
 ],
 "metadata": {
  "kernelspec": {
   "display_name": "Python 3",
   "language": "python",
   "name": "python3"
  },
  "language_info": {
   "codemirror_mode": {
    "name": "ipython",
    "version": 3
   },
   "file_extension": ".py",
   "mimetype": "text/x-python",
   "name": "python",
   "nbconvert_exporter": "python",
   "pygments_lexer": "ipython3",
   "version": "3.6.10"
  }
 },
 "nbformat": 4,
 "nbformat_minor": 4
}
