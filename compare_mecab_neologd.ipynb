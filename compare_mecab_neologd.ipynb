{
 "cells": [
  {
   "cell_type": "code",
   "execution_count": 1,
   "metadata": {},
   "outputs": [
    {
     "name": "stdout",
     "output_type": "stream",
     "text": [
      "Requirement already satisfied: sudachipy in /Users/tdual/opt/anaconda3/envs/py3.6/lib/python3.6/site-packages (0.4.9)\n",
      "Requirement already satisfied: sortedcontainers~=2.1.0 in /Users/tdual/opt/anaconda3/envs/py3.6/lib/python3.6/site-packages (from sudachipy) (2.1.0)\n",
      "Requirement already satisfied: dartsclone~=0.9.0 in /Users/tdual/opt/anaconda3/envs/py3.6/lib/python3.6/site-packages (from sudachipy) (0.9.0)\n",
      "Requirement already satisfied: Cython in /Users/tdual/opt/anaconda3/envs/py3.6/lib/python3.6/site-packages (from dartsclone~=0.9.0->sudachipy) (0.29.15)\n",
      "Requirement already satisfied: sudachidict_core in /Users/tdual/opt/anaconda3/envs/py3.6/lib/python3.6/site-packages (20200330)\n",
      "Requirement already satisfied: SudachiPy~=0.4.4 in /Users/tdual/opt/anaconda3/envs/py3.6/lib/python3.6/site-packages (from sudachidict_core) (0.4.9)\n",
      "Requirement already satisfied: sortedcontainers~=2.1.0 in /Users/tdual/opt/anaconda3/envs/py3.6/lib/python3.6/site-packages (from SudachiPy~=0.4.4->sudachidict_core) (2.1.0)\n",
      "Requirement already satisfied: dartsclone~=0.9.0 in /Users/tdual/opt/anaconda3/envs/py3.6/lib/python3.6/site-packages (from SudachiPy~=0.4.4->sudachidict_core) (0.9.0)\n",
      "Requirement already satisfied: Cython in /Users/tdual/opt/anaconda3/envs/py3.6/lib/python3.6/site-packages (from dartsclone~=0.9.0->SudachiPy~=0.4.4->sudachidict_core) (0.29.15)\n"
     ]
    }
   ],
   "source": [
    "! pip install sudachipy\n",
    "! pip install sudachidict_core"
   ]
  },
  {
   "cell_type": "code",
   "execution_count": 2,
   "metadata": {},
   "outputs": [],
   "source": [
    "import re\n",
    "import math\n",
    "import resource\n",
    "import numpy as np\n",
    "from urllib import request \n",
    "from pathlib import Path\n",
    "\n",
    "\n",
    "import MeCab\n",
    "import neologdn\n",
    "import gensim\n",
    "from gensim import corpora\n",
    "from gensim.corpora import Dictionary\n",
    "\n",
    "\n",
    "import matplotlib.pyplot as plt\n",
    "from sklearn.metrics import confusion_matrix\n",
    "from sklearn.model_selection import train_test_split\n",
    "from sklearn.metrics import recall_score, precision_score, accuracy_score\n",
    "from sklearn.linear_model import LogisticRegression"
   ]
  },
  {
   "cell_type": "code",
   "execution_count": 3,
   "metadata": {},
   "outputs": [],
   "source": [
    "from sudachipy import tokenizer\n",
    "from sudachipy import dictionary\n",
    "\n",
    "tokenizer_obj = dictionary.Dictionary().create()"
   ]
  },
  {
   "cell_type": "markdown",
   "metadata": {},
   "source": [
    "## check sudachi"
   ]
  },
  {
   "cell_type": "code",
   "execution_count": 4,
   "metadata": {},
   "outputs": [
    {
     "data": {
      "text/plain": [
       "[('国家', ['名詞', '普通名詞', '一般', '*', '*', '*']),\n",
       " ('公務', ['名詞', '普通名詞', '一般', '*', '*', '*']),\n",
       " ('員', ['接尾辞', '名詞的', '一般', '*', '*', '*'])]"
      ]
     },
     "execution_count": 4,
     "metadata": {},
     "output_type": "execute_result"
    }
   ],
   "source": [
    "mode = tokenizer.Tokenizer.SplitMode.A\n",
    "[(m.surface(), m.part_of_speech()) for m in tokenizer_obj.tokenize(\"国家公務員\", mode)]"
   ]
  },
  {
   "cell_type": "code",
   "execution_count": 5,
   "metadata": {},
   "outputs": [
    {
     "data": {
      "text/plain": [
       "[['名詞', '普通名詞', '一般', '*', '*', '*']]"
      ]
     },
     "execution_count": 5,
     "metadata": {},
     "output_type": "execute_result"
    }
   ],
   "source": [
    "mode = tokenizer.Tokenizer.SplitMode.C\n",
    "[m.part_of_speech() for m in tokenizer_obj.tokenize(\"国家公務員\", mode)]"
   ]
  },
  {
   "cell_type": "code",
   "execution_count": 6,
   "metadata": {},
   "outputs": [
    {
     "data": {
      "text/plain": [
       "'サマー'"
      ]
     },
     "execution_count": 6,
     "metadata": {},
     "output_type": "execute_result"
    }
   ],
   "source": [
    "tokenizer_obj.tokenize(\"SUMMER\", mode)[0].normalized_form()"
   ]
  },
  {
   "cell_type": "markdown",
   "metadata": {},
   "source": [
    "## get stopword"
   ]
  },
  {
   "cell_type": "code",
   "execution_count": 7,
   "metadata": {},
   "outputs": [
    {
     "name": "stdout",
     "output_type": "stream",
     "text": [
      "331\n",
      "['あそこ', 'あたり', 'あちら']\n"
     ]
    }
   ],
   "source": [
    "sw_filename = \"stopwords.txt\"\n",
    "if not Path(sw_filename).exists():\n",
    "    res = request.urlopen(\"http://svn.sourceforge.jp/svnroot/slothlib/CSharp/Version1/SlothLib/NLP/Filter/StopWord/word/Japanese.txt\").read().decode(\"utf-8\")\n",
    "    with open(sw_filename, \"w\") as f:\n",
    "        f.write(res)\n",
    "else:\n",
    "    with open(sw_filename) as f:\n",
    "        res = f.read()\n",
    "stopwords = [line.strip() for line in res.split(\"\\n\")]\n",
    "print(len(stopwords))\n",
    "print(stopwords[:3])"
   ]
  },
  {
   "cell_type": "code",
   "execution_count": null,
   "metadata": {},
   "outputs": [],
   "source": []
  },
  {
   "cell_type": "markdown",
   "metadata": {},
   "source": [
    "## create tokenizer"
   ]
  },
  {
   "cell_type": "code",
   "execution_count": 8,
   "metadata": {},
   "outputs": [],
   "source": [
    "class SudachiTokenizer():\n",
    "    def __init__(self, mode=\"C\", stopwords=None, include_pos=None):\n",
    "        \n",
    "        if mode not in [\"A\", \"B\", \"C\"]:\n",
    "            raise Exception(\"invalid mode. 'A' ,'B' or 'C'\")\n",
    "        self.mode = getattr(tokenizer.Tokenizer.SplitMode, mode)\n",
    "        print(self.mode )\n",
    "        \n",
    "        if stopwords is None:\n",
    "            self.stopwords = []\n",
    "        else:\n",
    "            self.stopwords = stopwords\n",
    "        if include_pos is None:\n",
    "            self.include_pos = [\"名詞\", \"動詞\", \"形容詞\"]\n",
    "        else:\n",
    "            self.include_pos = include_pos\n",
    "    \n",
    "    def parser(self, text):\n",
    "        return tokenizer_obj.tokenize(text, self.mode)\n",
    "    \n",
    "    \n",
    "    def tokenize(self, text, pos=False):\n",
    "        res = []\n",
    "        for m in self.parser(text):\n",
    "            p = m.part_of_speech()\n",
    "            base = m.normalized_form() #.dictionary_form()\n",
    "            #print(base, \": \", p)\n",
    "            if p[0] in self.include_pos and base not in self.stopwords and p[1] != \"数詞\":\n",
    "                if pos:\n",
    "                    res.append((base, p[0]))\n",
    "                else:\n",
    "                    res.append(base)\n",
    "        return res"
   ]
  },
  {
   "cell_type": "code",
   "execution_count": 9,
   "metadata": {},
   "outputs": [],
   "source": [
    "class MeCabTokenizer:\n",
    "    def __init__(self, dic_dir=None, stopwords=None, include_pos=None):\n",
    "        tagger_cmd = \"-Ochasen\"\n",
    "        if dic_dir:\n",
    "            tagger_cmd += \" -d {}\".format(dic_dir)\n",
    "        mecab = MeCab.Tagger(tagger_cmd)\n",
    "        self.parser = mecab.parse\n",
    "        if stopwords is None:\n",
    "            self.stopwords = []\n",
    "        else:\n",
    "            self.stopwords = stopwords\n",
    "        if include_pos is None:\n",
    "            self.include_pos = [\"名詞\", \"動詞\", \"形容詞\"]\n",
    "        else:\n",
    "            self.include_pos = include_pos\n",
    "\n",
    "    def tokenize(self, text, pos=False):\n",
    "        l = [line.split(\"\\t\") for line in self.parser(text).split(\"\\n\")]\n",
    "        res = []\n",
    "        for w in l:\n",
    "            if len(w) >=4: # check nomal words (e.g. not EOS)\n",
    "                p = w[3]\n",
    "                group_pos = p.split(\"-\")[0]\n",
    "                base = w[2]\n",
    "                if group_pos in self.include_pos and base not in self.stopwords and \"数\" not in p:\n",
    "                    if pos:\n",
    "                        res.append((base, p))\n",
    "                    else:\n",
    "                        res.append(base)\n",
    "        return res"
   ]
  },
  {
   "cell_type": "code",
   "execution_count": null,
   "metadata": {},
   "outputs": [],
   "source": []
  },
  {
   "cell_type": "code",
   "execution_count": 10,
   "metadata": {},
   "outputs": [],
   "source": [
    "include_pos = [\"名詞\", \"動詞\", \"形容詞\"]"
   ]
  },
  {
   "cell_type": "code",
   "execution_count": 11,
   "metadata": {},
   "outputs": [
    {
     "name": "stdout",
     "output_type": "stream",
     "text": [
      "SplitMode.A\n"
     ]
    }
   ],
   "source": [
    "mecab_tokenizer = MeCabTokenizer(dic_dir=\"/usr/local/lib/mecab/dic/mecab-ipadic-neologd\", stopwords=stopwords, include_pos=include_pos)\n",
    "sudachi_tokenizer = SudachiTokenizer(mode=\"A\", stopwords=stopwords, include_pos=include_pos+[\"形状詞\"])"
   ]
  },
  {
   "cell_type": "code",
   "execution_count": 12,
   "metadata": {},
   "outputs": [],
   "source": [
    "text = \"上記のコードは命令的で冗長です。算出プロパティを利用したバージョンと比較してみましょう\""
   ]
  },
  {
   "cell_type": "code",
   "execution_count": 13,
   "metadata": {},
   "outputs": [],
   "source": [
    "words = mecab_tokenizer.tokenize(text, pos=True)"
   ]
  },
  {
   "cell_type": "code",
   "execution_count": 14,
   "metadata": {},
   "outputs": [
    {
     "data": {
      "text/plain": [
       "[('コード', '名詞-一般'),\n",
       " ('命令', '名詞-サ変接続'),\n",
       " ('冗長', '名詞-形容動詞語幹'),\n",
       " ('算出', '名詞-サ変接続'),\n",
       " ('プロパティ', '名詞-固有名詞-一般'),\n",
       " ('利用', '名詞-サ変接続'),\n",
       " ('する', '動詞-自立'),\n",
       " ('バージョン', '名詞-一般'),\n",
       " ('比較', '名詞-サ変接続'),\n",
       " ('する', '動詞-自立'),\n",
       " ('みる', '動詞-非自立')]"
      ]
     },
     "execution_count": 14,
     "metadata": {},
     "output_type": "execute_result"
    }
   ],
   "source": [
    "words"
   ]
  },
  {
   "cell_type": "code",
   "execution_count": 15,
   "metadata": {},
   "outputs": [],
   "source": [
    "kaomoji_reg = r'[\\[|\\(][^あ-ん\\u30A1-\\u30F4\\u2E80-\\u2FDF\\u3005-\\u3007\\u3400-\\u4DBF\\u4E00-\\u9FFF\\uF900-\\uFAFF\\U00020000-\\U0002EBEF]+?[\\]|\\)]'\n",
    "m = re.compile(kaomoji_reg)\n",
    "def normalize(text):\n",
    "    text = str(text)\n",
    "    text = text.replace(\"\\n\", \" \")\n",
    "    text = re.sub(r\"http(s)?:\\/{2}[\\d\\w-]+(\\.[\\d\\w-]+)*(?:(?:\\/[^\\s/]*))*\", \"　\", text)\n",
    "    text = re.sub(r\"\\S*@\\S*\\s?\" ,\"　\", text)\n",
    "    text = text.lower()\n",
    "    text = re.sub(kaomoji_reg, \" \", text)\n",
    "    text = re.sub(r'\\d+', '', text)\n",
    "    text = neologdn.normalize(text)\n",
    "    return text"
   ]
  },
  {
   "cell_type": "code",
   "execution_count": 16,
   "metadata": {},
   "outputs": [
    {
     "data": {
      "text/plain": [
       "['コード', '命令', '冗長', '算出', 'プロパティ', '利用', 'する', 'バージョン', '比較', 'する', 'みる']"
      ]
     },
     "execution_count": 16,
     "metadata": {},
     "output_type": "execute_result"
    }
   ],
   "source": [
    "mecab_tokenizer.tokenize(normalize(text), pos=False)"
   ]
  },
  {
   "cell_type": "code",
   "execution_count": 17,
   "metadata": {},
   "outputs": [
    {
     "data": {
      "text/plain": [
       "['コード', '命令', '冗長', '算出', 'プロパティー', '利用', '為る', 'バージョン', '比較', '為る', '見る']"
      ]
     },
     "execution_count": 17,
     "metadata": {},
     "output_type": "execute_result"
    }
   ],
   "source": [
    "sudachi_tokenizer.tokenize(normalize(text), pos=False)"
   ]
  },
  {
   "cell_type": "code",
   "execution_count": 18,
   "metadata": {},
   "outputs": [
    {
     "data": {
      "text/plain": [
       "[('冗長', '名詞-一般')]"
      ]
     },
     "execution_count": 18,
     "metadata": {},
     "output_type": "execute_result"
    }
   ],
   "source": [
    "mecab_tokenizer.tokenize(\"冗長\", pos=True)"
   ]
  },
  {
   "cell_type": "code",
   "execution_count": 19,
   "metadata": {},
   "outputs": [
    {
     "data": {
      "text/plain": [
       "[('冗長', '形状詞')]"
      ]
     },
     "execution_count": 19,
     "metadata": {},
     "output_type": "execute_result"
    }
   ],
   "source": [
    "sudachi_tokenizer.tokenize(\"冗長\", pos=True)"
   ]
  },
  {
   "cell_type": "markdown",
   "metadata": {},
   "source": [
    "## prepare dataset"
   ]
  },
  {
   "cell_type": "markdown",
   "metadata": {},
   "source": [
    "livedoor ニュースコーパス  \n",
    "https://www.rondhuit.com/download.html#ldcc"
   ]
  },
  {
   "cell_type": "code",
   "execution_count": 20,
   "metadata": {},
   "outputs": [
    {
     "data": {
      "text/plain": [
       "[PosixPath('/Users/tdual/Downloads/text/movie-enter'),\n",
       " PosixPath('/Users/tdual/Downloads/text/it-life-hack'),\n",
       " PosixPath('/Users/tdual/Downloads/text/kaden-channel'),\n",
       " PosixPath('/Users/tdual/Downloads/text/topic-news'),\n",
       " PosixPath('/Users/tdual/Downloads/text/livedoor-homme'),\n",
       " PosixPath('/Users/tdual/Downloads/text/peachy'),\n",
       " PosixPath('/Users/tdual/Downloads/text/sports-watch'),\n",
       " PosixPath('/Users/tdual/Downloads/text/dokujo-tsushin'),\n",
       " PosixPath('/Users/tdual/Downloads/text/smax')]"
      ]
     },
     "execution_count": 20,
     "metadata": {},
     "output_type": "execute_result"
    }
   ],
   "source": [
    "dataset_dir = Path(\"/Users/tdual/Downloads/text\")\n",
    "dirs = [i for i in dataset_dir.iterdir() if i.is_dir()]\n",
    "dirs"
   ]
  },
  {
   "cell_type": "code",
   "execution_count": 21,
   "metadata": {},
   "outputs": [],
   "source": [
    "## Too many open files対策\n",
    "resource.setrlimit(resource.RLIMIT_NOFILE, (8192, 9223372036854775807))"
   ]
  },
  {
   "cell_type": "code",
   "execution_count": 22,
   "metadata": {},
   "outputs": [],
   "source": [
    "X_text = []\n",
    "y = []\n",
    "mapping_dict = {}\n",
    "for d in dirs:\n",
    "    label = d.name\n",
    "    index = len(mapping_dict)\n",
    "    mapping_dict[index] = label\n",
    "    for path in d.iterdir():\n",
    "        text = open(path)\n",
    "        X_text.append(text.read())\n",
    "        y.append(index)"
   ]
  },
  {
   "cell_type": "code",
   "execution_count": 23,
   "metadata": {},
   "outputs": [
    {
     "data": {
      "text/plain": [
       "(7376, 7376)"
      ]
     },
     "execution_count": 23,
     "metadata": {},
     "output_type": "execute_result"
    }
   ],
   "source": [
    "len(X_text), len(y)"
   ]
  },
  {
   "cell_type": "code",
   "execution_count": 24,
   "metadata": {},
   "outputs": [
    {
     "data": {
      "text/plain": [
       "'http://news.livedoor.com/article/detail/5978741/\\n2011-10-30T10:15:00+0900\\n【DVDエンター！】誘拐犯に育てられた女が目にした真実は、孤独か幸福か\\n\\u30002005年11月から翌2006年7月まで読売新聞にて連載された、直木賞作家・角田光代による初の長編サスペンス『八日目の蝉』。2010年に檀れいと北乃きいの出演によりテレビドラマ化された同作が、2011年4月に永作博美と井上真央の出演によって映画化。そして、劇場公開から半年が過ぎた10月28日、DVD＆ブルーレイとなって発売されました。\\n\\n八日目の蝉\\n\\u3000妻子ある男と愛し合い、その子を身ごもりながら、あきらめざるをえなかった女。彼女は同時に、男の妻が子供を産んだことを知る。その赤ん坊を見に行った女は、突発的にその子を連れ去り、逃避行を続けた挙句、小豆島に落ち着き、母と娘として暮らしはじめる。\\n\\n\\n不倫相手の子供を誘拐し、4年間育てた女\\n\\u3000永作博美が演じる野々宮希和子は、不倫相手の子を宿しながらも、彼の「いずれ妻と別れるから、それまで待ってくれ」という常套句を信じて、中絶。後遺症により、二度と子供を産めない身体となってしまいます。その後、不倫相手から彼の妻が出産したことを知らされ、別れを決意。最後に諦めをつけるため、彼らの生後6ヶ月の赤ん坊・恵理菜の顔を見た希和子でしたが、自分に笑顔で向けた恵理菜を見て、思わず誘拐。名前を変えて恵理菜を薫と名付けると、人目を避けて各地を転々とし、二人で幸せな時間を過ごしますが、辿り着いた最後の場所・小豆島で4年の逃避行に終止符を打ちます。\\n\\n\\n誘拐犯に育てられた女\\n\\u30004歳になって実の両親と再会を果たした後も、世間から言われの無い中傷を受け、本当の両親との関係を築けないまま、21歳の大学生へと成長した恵理菜。過去と向き合うことを避けてきた恵理菜でしたが、劇団ひとりが演じる不倫相手・岸田孝史の子を宿し、ずっと憎み続けてきた希和子と同じ道を歩んでいることに気付いた彼女は、小池栄子が演じるルポライター・安藤千草と共に、4年間の逃亡生活を追憶する旅に出ます。希和子との幸せだった時間に触れながら、最終地・小豆島に辿り着いた恵理菜が見た真実とは？\\n\\n\\n八日目の蝉は幸せなのだろうか？\\n\\u3000蝉は俗説として、一生の大半を幼虫として地下で費やし、地上に出て羽化からわずか1週間程度で死ぬと言われています。八日目まで生き残ってしまった蝉が目にしたのは、孤独か、あるいは誰も目にすることのできなかった世界なのでしょうか。中絶によって二度と子供を埋めない身体になった希和子が、恵理菜と過ごした4年間の“八日目”は、希和子だけでなく、恵理菜にとっても幸せな時間だったのではないでしょうか。\\n\\n\\u3000主題歌は、デビュー10年目に突入した2010年10月より、耳管開放症のため音楽活動を休止していた中島美嘉の復帰第一弾（通算33作目）シングル『Dear』。原作に深い感銘を受けた彼女が、本作のために提供した楽曲となっています。\\n\\n・八日目の蝉 - 作品情報\\n\\n八日目の蝉\\u3000通常版 [DVD]posted with amazlet at 11.10.29アミューズソフトエンタテインメント (2011-10-28)\\n売り上げランキング: 266\\nAmazon.co.jp で詳細を見る\\n■関連記事\\n・井上真央が逃避行？永作、森口、小池も頭を悩ます映画とは\\n'"
      ]
     },
     "execution_count": 24,
     "metadata": {},
     "output_type": "execute_result"
    }
   ],
   "source": [
    "X_text[0]"
   ]
  },
  {
   "cell_type": "code",
   "execution_count": 25,
   "metadata": {},
   "outputs": [
    {
     "data": {
      "text/plain": [
       "0"
      ]
     },
     "execution_count": 25,
     "metadata": {},
     "output_type": "execute_result"
    }
   ],
   "source": [
    "y[0]"
   ]
  },
  {
   "cell_type": "code",
   "execution_count": 26,
   "metadata": {},
   "outputs": [
    {
     "data": {
      "text/plain": [
       "{0: 'movie-enter',\n",
       " 1: 'it-life-hack',\n",
       " 2: 'kaden-channel',\n",
       " 3: 'topic-news',\n",
       " 4: 'livedoor-homme',\n",
       " 5: 'peachy',\n",
       " 6: 'sports-watch',\n",
       " 7: 'dokujo-tsushin',\n",
       " 8: 'smax'}"
      ]
     },
     "execution_count": 26,
     "metadata": {},
     "output_type": "execute_result"
    }
   ],
   "source": [
    "mapping_dict"
   ]
  },
  {
   "cell_type": "code",
   "execution_count": null,
   "metadata": {},
   "outputs": [],
   "source": []
  },
  {
   "cell_type": "code",
   "execution_count": 27,
   "metadata": {},
   "outputs": [],
   "source": [
    "X_text_train, X_text_test, y_train, y_test = train_test_split(X_text, y, random_state=0)"
   ]
  },
  {
   "cell_type": "code",
   "execution_count": 28,
   "metadata": {},
   "outputs": [
    {
     "data": {
      "text/plain": [
       "('http://news.livedoor.com/article/detail/6561018/\\n2012-05-15T17:00:00+0900\\nストップ違法コピー！ BSA世界ソフトウェア違法コピー調査2011の結果発表\\nビジネス ソフトウェアアライアンス（BSA）は、2011年における全世界のコンピュータ・ソフトウェアの違法コピーによる被害状況をまとめた「BSA世界ソフトウェア違法コピー調査2011」（略称：違法コピー番付）の結果を発表した。今回で9回目となる違法コピー調査だが、昨年は日本の違法コピー率は20％で2003年の調査開始以来、初めて世界1位（米国、ルクセンブルク大公国と同位）を達成した。しかし、昨年から順位を2つ下げ第3位に転落。日本国内の違法コピー率は昨年の20％から21％へ増加している。日本のPC利用者のうち違法コピーソフトを取得した利用者が39％となった。\\n\\n国内の違法コピーによる損害額は、昨年が約1,431億円であったが今年は約1,500億円（18.75億USドル）へと増大、世界ワーストの順位は昨年同様10位だった。今回の調査結果から、世界的な傾向を計ると先進国メインのソフトウェア成熟市場より発展途上国などのソフトウェア新興市場の違法コピー率が高いことが挙げられ、その平均値は、新興市場の違法コピー率68％対成熟市場の違法コピー率24％と大きく乖離していることが分かったという。\\n\\nまた世界のソフトウェア違法コピー率が平均すると42％を前後している中でその損害額は約5兆745億円（634.56億USドル）となった。その起因として、先述した新興市場における違法コピー率の増大が大きく影響していると見られる。\\n\\n違法コピー率が急激に上昇する理由としては、組織ぐるみの違法コピーが増えることが挙げられる。社内に複数あるPCに違法コピーが行われることでコピー率は一気に跳ね上がるからだ。こうした違法コピーがまん延するのは管理者の意識の低さにあることが多い。\\n\\n昨年の東日本大震災の被害やいつまでたっても抜けだせない国内景気の閉塞感によって節電、省エネ、エコ、経費削減といった言葉がもてはやされているが、ソフトウェアの違法コピーは経費削減ではなく犯罪である。ビジネスソフトの違法コピーは犯罪だということを理解し、組織内に周知徹底することでこうした違法行為を減らすことができる。来年は1位に返り咲くことを期待したいところだ。\\n\\n■BSA世界ソフトウェア違法コピー調査2011\\n■ビジネス ソフトウェア アライアンス（BSA）\\n\\n\\n■ITライフハック Twitter\\n',\n",
       " 'it-life-hack')"
      ]
     },
     "execution_count": 28,
     "metadata": {},
     "output_type": "execute_result"
    }
   ],
   "source": [
    "X_text_train[0], mapping_dict[y_train[0]]"
   ]
  },
  {
   "cell_type": "code",
   "execution_count": 29,
   "metadata": {},
   "outputs": [
    {
     "data": {
      "text/plain": [
       "5532"
      ]
     },
     "execution_count": 29,
     "metadata": {},
     "output_type": "execute_result"
    }
   ],
   "source": [
    "len(X_text_train)"
   ]
  },
  {
   "cell_type": "markdown",
   "metadata": {},
   "source": [
    "## tokenize"
   ]
  },
  {
   "cell_type": "code",
   "execution_count": 30,
   "metadata": {},
   "outputs": [
    {
     "name": "stdout",
     "output_type": "stream",
     "text": [
      "CPU times: user 23 s, sys: 265 ms, total: 23.3 s\n",
      "Wall time: 23.4 s\n"
     ]
    }
   ],
   "source": [
    "%%time\n",
    "sentences_mecab = [mecab_tokenizer.tokenize(normalize(s)) for s in X_text_train]"
   ]
  },
  {
   "cell_type": "code",
   "execution_count": 31,
   "metadata": {},
   "outputs": [
    {
     "name": "stdout",
     "output_type": "stream",
     "text": [
      "CPU times: user 6min 55s, sys: 1.86 s, total: 6min 57s\n",
      "Wall time: 6min 58s\n"
     ]
    }
   ],
   "source": [
    "%%time\n",
    "sentences_sudachi = [sudachi_tokenizer.tokenize(normalize(s)) for s in X_text_train]"
   ]
  },
  {
   "cell_type": "code",
   "execution_count": null,
   "metadata": {},
   "outputs": [],
   "source": []
  },
  {
   "cell_type": "markdown",
   "metadata": {},
   "source": [
    "## vectorize by tf-idf "
   ]
  },
  {
   "cell_type": "code",
   "execution_count": 32,
   "metadata": {},
   "outputs": [],
   "source": [
    "dictinonary_mecab = Dictionary(sentences_mecab)\n",
    "dictinonary_mecab.filter_extremes(no_below=2, no_above=0.9)\n",
    "dictinonary_mecab.compactify()\n",
    "corpus_mecab = [dictinonary_mecab.doc2bow(w) for w in sentences_mecab]\n",
    "\n",
    "dictinonary_sudachi = Dictionary(sentences_sudachi)\n",
    "dictinonary_sudachi.filter_extremes(no_below=2, no_above=0.9)\n",
    "dictinonary_sudachi.compactify()\n",
    "corpus_sudachi = [dictinonary_sudachi.doc2bow(w) for w in sentences_sudachi]"
   ]
  },
  {
   "cell_type": "code",
   "execution_count": 33,
   "metadata": {},
   "outputs": [
    {
     "data": {
      "text/plain": [
       "(38394, 26968)"
      ]
     },
     "execution_count": 33,
     "metadata": {},
     "output_type": "execute_result"
    }
   ],
   "source": [
    "len(dictinonary_mecab), len(dictinonary_sudachi)"
   ]
  },
  {
   "cell_type": "code",
   "execution_count": 34,
   "metadata": {},
   "outputs": [],
   "source": [
    "class Tfidf:\n",
    "    def __init__(self):\n",
    "        self.corpus = None\n",
    "\n",
    "\n",
    "    def create_model(self, corpus, normalize=False):\n",
    "        self.corpus = corpus\n",
    "        self.model = gensim.models.TfidfModel(corpus, normalize=normalize, wglobal=self.normal_idf)\n",
    "\n",
    "    def load_model(self, file_path):\n",
    "        self.model = gensim.models.TfidfModel.load(file_path)\n",
    "\n",
    "    def normal_idf(self, docfreq, totaldocs, log_base=2.0):\n",
    "        \"\"\"\n",
    "          this is a normal idf. gensim's idf does not have + 1.0\n",
    "        \"\"\"\n",
    "        return math.log(1.0 * totaldocs / docfreq, log_base) + 1.0\n",
    "\n",
    "\n",
    "    def get_corpus_tfidf(self, corpus=None):\n",
    "        if corpus is None:\n",
    "            if self.corpus and len(self.corpus) > 0:\n",
    "                corpus = self.corpus\n",
    "            else:\n",
    "                print(\"self.corpus is empty\")\n",
    "                return []\n",
    "        else:\n",
    "            pass\n",
    "        return list(self.model[corpus])\n",
    "\n",
    "\n",
    "    def get_dense_vectors(self, corpus_tfidf, num_terms):\n",
    "        dense = gensim.matutils.corpus2dense(corpus_tfidf, num_terms=num_terms).T\n",
    "        return dense\n",
    "\n",
    "    def get_csc_vectors(self, corpus_tfidf, num_terms):\n",
    "        vectors = gensim.matutils.corpus2csc(corpus_tfidf, num_terms=num_terms).T\n",
    "        return vectors\n",
    "\n",
    "    "
   ]
  },
  {
   "cell_type": "code",
   "execution_count": 35,
   "metadata": {},
   "outputs": [
    {
     "name": "stdout",
     "output_type": "stream",
     "text": [
      "num_terms:  38394\n"
     ]
    }
   ],
   "source": [
    "model_mecab = Tfidf()\n",
    "model_mecab.create_model(corpus_mecab)\n",
    "num_terms_m = len(dictinonary_mecab)\n",
    "print(\"num_terms: \", num_terms_m)\n",
    "vectors_mecab = model_mecab.get_csc_vectors(model_mecab.get_corpus_tfidf(corpus_mecab), num_terms_m)"
   ]
  },
  {
   "cell_type": "code",
   "execution_count": 36,
   "metadata": {},
   "outputs": [
    {
     "name": "stdout",
     "output_type": "stream",
     "text": [
      "num_terms:  26968\n"
     ]
    }
   ],
   "source": [
    "model_sudachi = Tfidf()\n",
    "model_sudachi.create_model(corpus_sudachi)\n",
    "num_terms_s = len(dictinonary_sudachi)\n",
    "print(\"num_terms: \", num_terms_s)\n",
    "vectors_sudachi = model_sudachi.get_csc_vectors(model_sudachi.get_corpus_tfidf(corpus_sudachi), num_terms_s)"
   ]
  },
  {
   "cell_type": "code",
   "execution_count": 37,
   "metadata": {},
   "outputs": [
    {
     "data": {
      "text/plain": [
       "{'理不尽',\n",
       " '精神科医',\n",
       " 'バックスピン',\n",
       " 'サウサンプトンFC',\n",
       " 'つぼ',\n",
       " 'E-ROTIC',\n",
       " 'はち',\n",
       " '音楽配信',\n",
       " '位置情報',\n",
       " 'ぼかす',\n",
       " '戦火の馬',\n",
       " 'heat',\n",
       " 'ざく',\n",
       " '胸の内',\n",
       " 'test',\n",
       " 'ティム・ディケイ',\n",
       " '精神力',\n",
       " '性能面',\n",
       " '不自由',\n",
       " '折角',\n",
       " '品川駅港南口',\n",
       " 'ゴミ捨て場',\n",
       " 'ミラ・ジョヴォヴィッチ',\n",
       " '権',\n",
       " '押尾学',\n",
       " '乗り換える',\n",
       " '日系企業',\n",
       " '景品表示法',\n",
       " 'internet',\n",
       " 'ベビーフェイス',\n",
       " '存在感',\n",
       " '日本酒',\n",
       " 'お決まり',\n",
       " 'Anastacia',\n",
       " 'ユースケ・サンタマリア',\n",
       " '亀田興毅',\n",
       " 'そのため',\n",
       " 'グレイ',\n",
       " '行動派',\n",
       " '真野恵里菜',\n",
       " 'チラつく',\n",
       " '廃物',\n",
       " 'エコノミークラス',\n",
       " 'かたい',\n",
       " 'エイトレンジャー',\n",
       " '卸',\n",
       " '澤穂希',\n",
       " '縄手',\n",
       " '求人情報',\n",
       " '三浦春馬',\n",
       " '銀河帝国',\n",
       " '老眼鏡',\n",
       " '生活習慣病',\n",
       " 'たのしい',\n",
       " '洗面所',\n",
       " '電動歯ブラシ',\n",
       " '電気ケトル',\n",
       " '納まる',\n",
       " '名古屋駅',\n",
       " '販売店',\n",
       " 'SoftBankスマートフォン',\n",
       " '映像信号',\n",
       " '落つ',\n",
       " 'ネバネバ',\n",
       " '思い当たる',\n",
       " 'いまを生きる',\n",
       " 'オウム事件',\n",
       " '資産運用',\n",
       " '推す',\n",
       " 'MINI-Z',\n",
       " 'たす',\n",
       " 'ふたり',\n",
       " '物理学者',\n",
       " 'サッカー解説者',\n",
       " '深層心理',\n",
       " '奥田瑛二',\n",
       " 'いい',\n",
       " 'どる',\n",
       " '理系男子。',\n",
       " '販売予定',\n",
       " 'まころん',\n",
       " 'ジョセフ',\n",
       " '観光スポット',\n",
       " '取り付ける',\n",
       " 'マイコミジャーナル',\n",
       " \"G'zOne\",\n",
       " '興行収入',\n",
       " 'ひとつひとつ',\n",
       " '思わす',\n",
       " 'キングコング',\n",
       " 'スイングバランス',\n",
       " 'SHO',\n",
       " '葬',\n",
       " '鈴木省吾',\n",
       " '痛いニュース',\n",
       " '国内市場',\n",
       " 'ファンミーティング',\n",
       " '大切さ',\n",
       " 'ハイブリッド車',\n",
       " '苦肉の策',\n",
       " '送り届ける',\n",
       " 'ケーブルチャンネル',\n",
       " '同窓生',\n",
       " 'そばかす',\n",
       " '宮崎県',\n",
       " '第一次大戦',\n",
       " '初回放送',\n",
       " 'キャラクターデザイン',\n",
       " '須度',\n",
       " 'テレビ東京',\n",
       " '指揮者',\n",
       " 'Owltech',\n",
       " '地磁気',\n",
       " '千葉県茂原市',\n",
       " 'クリスマス・イブ',\n",
       " '全国区',\n",
       " 'audio',\n",
       " '置き換わる',\n",
       " 'コク',\n",
       " '未熟児',\n",
       " '有酸素運動',\n",
       " 'ゴーストライター',\n",
       " 'なさる',\n",
       " 'ススメ!',\n",
       " '仕様変更',\n",
       " '心がけ',\n",
       " '受け取れる',\n",
       " '小沢一郎',\n",
       " '丹色',\n",
       " 'テカ',\n",
       " 'ぴ',\n",
       " '池袋店',\n",
       " 'がんセンター',\n",
       " '歌手活動',\n",
       " '取りやめ',\n",
       " 'オリックス・バファローズ',\n",
       " 'indoor',\n",
       " '替る',\n",
       " 'ゴロウ・デラックス',\n",
       " '木目調',\n",
       " '錚々たる',\n",
       " 'GINZA',\n",
       " 'カロリスキャン',\n",
       " '出し切る',\n",
       " 'ミュージックビデオ',\n",
       " '東京都文京区',\n",
       " '問い合わせる',\n",
       " '江~姫たちの戦国~',\n",
       " '久本雅美',\n",
       " 'う回',\n",
       " 'メンズライク',\n",
       " 'ルームシューズ',\n",
       " 'STARS',\n",
       " 'リコーポートフォリオオーディション',\n",
       " '天皇陛下',\n",
       " '高岡蒼佑',\n",
       " 'マット・ボマー',\n",
       " 'FOREST',\n",
       " 'ピエール・エルメ',\n",
       " 'ベア',\n",
       " 'ヤリマン',\n",
       " 'よね',\n",
       " '暫定値',\n",
       " '呼び出せる',\n",
       " '江戸城',\n",
       " 'YUI',\n",
       " 'ぺ',\n",
       " '木村祐一',\n",
       " 'アイドル戦国時代',\n",
       " 'ACアダプタ',\n",
       " 'ハンコ',\n",
       " '二色',\n",
       " 'ゲリラ豪雨',\n",
       " '時と場合',\n",
       " 'キム・ジョンイル',\n",
       " '隠せる',\n",
       " 'イメージソング',\n",
       " 'こねる',\n",
       " 'テレビ朝日',\n",
       " 'TERU',\n",
       " '地域密着型',\n",
       " '無理矢理',\n",
       " 'ドS',\n",
       " '上位進出',\n",
       " '印象づける',\n",
       " '選手団',\n",
       " 'helter skelter',\n",
       " 'sex',\n",
       " 'DEL',\n",
       " '笑わせる',\n",
       " '男性名',\n",
       " '技適マーク',\n",
       " '史上最強',\n",
       " 'olympics',\n",
       " 'スマホシェア',\n",
       " 'あっさり',\n",
       " '鳥谷敬',\n",
       " '四捨五入',\n",
       " 'ゆがむ',\n",
       " '宇宙兄弟',\n",
       " 'TOHOシネマズ',\n",
       " '初詣',\n",
       " 'タイムズ・スクエア',\n",
       " 'HEAVEN',\n",
       " 'わきまえる',\n",
       " '弁当男子',\n",
       " '模糊',\n",
       " '福岡空港',\n",
       " '網目',\n",
       " '大本命',\n",
       " '旗艦店',\n",
       " '海老',\n",
       " '福島第一原子力発電所',\n",
       " 'GALAPAGOS',\n",
       " '音声通話',\n",
       " 'PINK',\n",
       " '向上心',\n",
       " 'SHAKE',\n",
       " 'マイクロSIM',\n",
       " '森高千里',\n",
       " 'GPシリーズ',\n",
       " 'Girlie',\n",
       " '嫌なら見るな',\n",
       " 'メモ帳',\n",
       " 'new',\n",
       " '過去最悪',\n",
       " '顧客満足度',\n",
       " '期す',\n",
       " 'ステキ',\n",
       " '宝の持ち腐れ',\n",
       " '参照元',\n",
       " '通いつめる',\n",
       " '狙える',\n",
       " '登る',\n",
       " 'ダンテ・カーヴァー',\n",
       " 'キャンディ',\n",
       " '漕ぎ着ける',\n",
       " 'ワッショイ',\n",
       " 'advance',\n",
       " '広島吉本',\n",
       " '荒川アンダーザブリッジ',\n",
       " '勤務先',\n",
       " 'Lunascape',\n",
       " '夫婦生活',\n",
       " 'CAMUI',\n",
       " 'フレッシュ!',\n",
       " '運命の人',\n",
       " 'すれ違い',\n",
       " '生い茂る',\n",
       " '豊臣秀吉',\n",
       " 'ラーメン店',\n",
       " '石井克人',\n",
       " '新年度',\n",
       " 'GLADIATOR',\n",
       " '呼び方',\n",
       " 'PEOPLE',\n",
       " '子ども',\n",
       " 'J-CASTニュース',\n",
       " '心ゆく',\n",
       " '特別調査委員会',\n",
       " 'LG Electronics Japan',\n",
       " '世界トップレベル',\n",
       " 'スポーツ誌',\n",
       " '日本ハム',\n",
       " '文字入力',\n",
       " '組み合せる',\n",
       " '背番号',\n",
       " '民俗学者',\n",
       " '万の',\n",
       " '感動作',\n",
       " 'microsd×c',\n",
       " '奉る',\n",
       " '敷地内',\n",
       " 'around',\n",
       " 'ひなまつり',\n",
       " 'ウィスキー',\n",
       " 'phantom',\n",
       " 'マウスポインタ',\n",
       " 'KISS',\n",
       " 'nature',\n",
       " 'Board Game',\n",
       " '飲みで',\n",
       " 'small',\n",
       " '当たって砕けろ',\n",
       " 'リーマンショック',\n",
       " 'ごする',\n",
       " 'ジャッキー・チェン',\n",
       " '日本のインターネット',\n",
       " '心機一転',\n",
       " '数百人',\n",
       " '施',\n",
       " '見守る',\n",
       " 'あっという間',\n",
       " '栗山英樹',\n",
       " 'シ',\n",
       " '岡田将生',\n",
       " '破れる',\n",
       " '当の本人',\n",
       " '音声出力',\n",
       " 'シンシア・ニクソン',\n",
       " '稀少',\n",
       " '報う',\n",
       " '取り外す',\n",
       " '青山学院大学',\n",
       " 'ウナ',\n",
       " '情報公開',\n",
       " 'コミケカタログ',\n",
       " 'コンタクトレンズ',\n",
       " '観光協会',\n",
       " '尾羽',\n",
       " '倉',\n",
       " '花より男子',\n",
       " 'チャニング・テイタム',\n",
       " 'ファインディング・ニモ',\n",
       " 'Spencer',\n",
       " 'ボブ・サップ',\n",
       " '最大級',\n",
       " '港区六本木',\n",
       " '日本大学芸術学部',\n",
       " 'corporation',\n",
       " '現在進行形',\n",
       " '渡辺直人',\n",
       " 'Hello Project',\n",
       " 'Googleマップ',\n",
       " '訂正記事',\n",
       " '尾形未紀',\n",
       " 'まとめ記事',\n",
       " '美元',\n",
       " '孫泰蔵',\n",
       " 'つまんない',\n",
       " '縁故採用',\n",
       " '迎え入れる',\n",
       " '精密機器',\n",
       " '見つける',\n",
       " '日本人',\n",
       " '山中さわお',\n",
       " '黒毛和牛',\n",
       " 'マイナス成長',\n",
       " 'pocket',\n",
       " '夢みる',\n",
       " '浦和レッズレディース',\n",
       " 'キューティ・ブロンド',\n",
       " '炎の体育会TV',\n",
       " 'パッケージソフト',\n",
       " '益若つばさ',\n",
       " '浅田真央',\n",
       " '皆既月食',\n",
       " 'すべり台',\n",
       " 'SSID',\n",
       " '読み解く',\n",
       " 'ステロイド剤',\n",
       " '商品名',\n",
       " '非常識',\n",
       " '効く',\n",
       " 'ビックリ',\n",
       " '買い付ける',\n",
       " '外国語',\n",
       " '子供番組',\n",
       " 'EXPRESS',\n",
       " '虚構新聞',\n",
       " '何かしら',\n",
       " '見失う',\n",
       " '呉服屋',\n",
       " 'or',\n",
       " '舞台裏',\n",
       " '備忘録',\n",
       " 'ヒット曲',\n",
       " '思い起こす',\n",
       " 'コバート・アフェア',\n",
       " '茗荷谷駅',\n",
       " '通信機器',\n",
       " '江口洋介',\n",
       " 'カギ',\n",
       " 'つくす',\n",
       " 'コスト削減',\n",
       " '美肌一族',\n",
       " 'キメる',\n",
       " 'めぐらせる',\n",
       " '恋物語',\n",
       " 'トートバック',\n",
       " 'MAQUIA',\n",
       " '改善案',\n",
       " 'TANITA',\n",
       " '渡部建',\n",
       " 'ecosystem',\n",
       " '麻雀',\n",
       " 'うまい棒',\n",
       " 'NHK出版',\n",
       " '役者さん',\n",
       " '遠い目',\n",
       " '西武ライオンズ',\n",
       " 'エド・ウェストウィック',\n",
       " 'ディミトリ',\n",
       " 'J-CAST',\n",
       " 'アレクサンドル・デュマ',\n",
       " '有閑倶楽部',\n",
       " 'かがむ',\n",
       " 'Wi-Fiルータ',\n",
       " '自宅マンション',\n",
       " '羽山',\n",
       " 'ツヤ感',\n",
       " '直輸入',\n",
       " 'Ai',\n",
       " '清潔感',\n",
       " 'エクスペンタブルズ',\n",
       " 'フィンランド語',\n",
       " '都市型',\n",
       " 'しない',\n",
       " '読み方',\n",
       " 'イヤホンジャック',\n",
       " 'Burst',\n",
       " '乃南アサ',\n",
       " 'StarCraft',\n",
       " '乗り切れる',\n",
       " '聞き取る',\n",
       " '相互フォロー',\n",
       " '石井岳龍',\n",
       " 'FACE',\n",
       " 'シミ',\n",
       " 'id',\n",
       " 'ホームズスタジアム神戸',\n",
       " '一部地域',\n",
       " '少女マンガ',\n",
       " 'screenshot',\n",
       " '水平解像度',\n",
       " '相武紗季',\n",
       " 'ひる',\n",
       " '突き刺さる',\n",
       " '専用機',\n",
       " 'NAVER',\n",
       " 'HTC NIPPON',\n",
       " '阪神タイガース',\n",
       " 'ロバート・ゼメキス',\n",
       " 'ゴールデンウイーク',\n",
       " '憑',\n",
       " '裏切れる',\n",
       " '人斬り抜刀斎',\n",
       " '完ぺき',\n",
       " 'CASL',\n",
       " 'CRAFTHOLIC',\n",
       " 'Dual',\n",
       " 'ゴキブリ',\n",
       " '無料通話',\n",
       " '捉える',\n",
       " 'The Fast and the Furious',\n",
       " '薄',\n",
       " '試食会',\n",
       " '有機EL',\n",
       " 'Jスポ',\n",
       " 'にらむ',\n",
       " '実力派女優',\n",
       " 'はじめの一歩',\n",
       " 'さえぎる',\n",
       " 'hello',\n",
       " 'SDHC',\n",
       " 'リス',\n",
       " '義務付ける',\n",
       " '会える',\n",
       " '噛み分ける',\n",
       " '結婚願望',\n",
       " 'mentalist',\n",
       " '中国政府',\n",
       " 'オダギリジョー',\n",
       " '出世作',\n",
       " 'ファインアート',\n",
       " 'いやす',\n",
       " 'オリジナル作品',\n",
       " 'マタ',\n",
       " 'CLEAR',\n",
       " '目と',\n",
       " '星飛雄馬',\n",
       " '髪形',\n",
       " '泣かす',\n",
       " 'Dual Core',\n",
       " 'A-E',\n",
       " '見破る',\n",
       " 'GOTHAM',\n",
       " 'アメニティ',\n",
       " '拭き取る',\n",
       " 'ズームレンズデジカメ',\n",
       " '小倉智昭',\n",
       " '年の差婚',\n",
       " '弱者救済',\n",
       " '山本太郎',\n",
       " 'short',\n",
       " 'ぶりっこ',\n",
       " '超解像',\n",
       " '直射日光',\n",
       " 'non-no',\n",
       " 'kw',\n",
       " 'だい',\n",
       " '不法行為',\n",
       " '大人用',\n",
       " 'タクシー運転手',\n",
       " '柑橘系',\n",
       " '社会現象',\n",
       " '走り抜ける',\n",
       " '凡そ',\n",
       " '見つけ出す',\n",
       " '独創的',\n",
       " 'AUDI',\n",
       " 'glass',\n",
       " '深津絵里',\n",
       " 'Hangame',\n",
       " '情報リテラシー',\n",
       " 'この上ない',\n",
       " '代表理事',\n",
       " '洗える',\n",
       " '再始動',\n",
       " '沁みる',\n",
       " '天然素材',\n",
       " '出そろう',\n",
       " '女性問題',\n",
       " '大阪大学',\n",
       " 'LaVie',\n",
       " '横浜DeNAベイスターズ',\n",
       " '打',\n",
       " 'コワい',\n",
       " '三大',\n",
       " '深夜食堂',\n",
       " 'あら',\n",
       " 'お便り',\n",
       " '激戦区',\n",
       " '冊',\n",
       " 'クリエイト',\n",
       " 'パラノーマル・アクティビティ',\n",
       " 'TOHOシネマズ六本木ヒルズ',\n",
       " '電気街',\n",
       " '信頼度',\n",
       " '骨盤底筋',\n",
       " '玉木宏',\n",
       " '参加券',\n",
       " '演歌歌手',\n",
       " '大須賀淳',\n",
       " '現物支給',\n",
       " '真ちゅう',\n",
       " '東京工業専門学校',\n",
       " '短期留学',\n",
       " '禁じる',\n",
       " 'ことも',\n",
       " 'バラ',\n",
       " '仮想通貨',\n",
       " 'WTP',\n",
       " 'チェックイン',\n",
       " '香川県',\n",
       " 'タカシマヤ',\n",
       " '不機嫌',\n",
       " '貴方',\n",
       " 'クリステン・ウィグ',\n",
       " '三愛ドリームセンター',\n",
       " 'つけ',\n",
       " '三年',\n",
       " 'total',\n",
       " 'AKBaby',\n",
       " 'Kindle Fire',\n",
       " '替わり',\n",
       " 'ロッカールーム',\n",
       " '子宮内膜',\n",
       " '依存度',\n",
       " '倒せる',\n",
       " '自問自答',\n",
       " 'Ultrabook',\n",
       " '許せる',\n",
       " '小業',\n",
       " 'になう',\n",
       " '突っ走る',\n",
       " 'めぐらす',\n",
       " '違法行為',\n",
       " 'フィルムカメラ',\n",
       " '代々木公園',\n",
       " '訪問者',\n",
       " '相次ぐ',\n",
       " '洗い上げる',\n",
       " 'いいじゃない',\n",
       " '韓国国民',\n",
       " '悪循環',\n",
       " '小才',\n",
       " '日本名',\n",
       " 'Ar',\n",
       " 'サスペンスドラマ',\n",
       " 'MSN産経ニュース',\n",
       " 'quad',\n",
       " 'うり',\n",
       " '今季限り',\n",
       " 'デジタルPWM',\n",
       " 'それ以降',\n",
       " 'クギ',\n",
       " 'Yonah',\n",
       " 'はんだづけ',\n",
       " '回転数',\n",
       " 'あったかい',\n",
       " '最新情報',\n",
       " 'アンダーワールド:ビギンズ',\n",
       " '解説者',\n",
       " '歌ってみた',\n",
       " 'かぶれ',\n",
       " 'Social Network',\n",
       " 'オフ会',\n",
       " 'ホームファッションカタログ',\n",
       " '無気力',\n",
       " '水色',\n",
       " 'たぐる',\n",
       " '出場枠',\n",
       " '電動スクーター',\n",
       " 'ジェームズ・ボンド',\n",
       " 'opera',\n",
       " 'モンスターペアレンツ',\n",
       " '横峯さくら',\n",
       " '半信半疑',\n",
       " 'タイムカード',\n",
       " 'ECSTACY',\n",
       " 'ジョン・エドガー・フーバー',\n",
       " '発表会見',\n",
       " 'ゴールデンスランバー',\n",
       " '韓国内',\n",
       " 'くらわせる',\n",
       " '寄り添う',\n",
       " '新聞記事',\n",
       " '出掛ける',\n",
       " '得意分野',\n",
       " '阿鼻叫喚',\n",
       " '救急箱',\n",
       " 'FLEA MARKET',\n",
       " '東京の空',\n",
       " '菊地勲',\n",
       " 'だいじょうぶ',\n",
       " '事前予約',\n",
       " 'こいつ',\n",
       " '連載開始',\n",
       " '擬似',\n",
       " 'トロン:レガシー',\n",
       " 'ブルースクリーン',\n",
       " 'トップスター',\n",
       " '長ぐつをはいたネコ',\n",
       " '目薬',\n",
       " '中途半端',\n",
       " 'ノルマンディー上陸作戦',\n",
       " 'イケア・ジャパン',\n",
       " 'ジャネット・マクティア',\n",
       " '最上級',\n",
       " 'hmm',\n",
       " '寝かせる',\n",
       " 'NHK大河ドラマ',\n",
       " '転載禁止',\n",
       " '込める',\n",
       " 'ジグソーパズル',\n",
       " '未公開映像',\n",
       " '容疑者Xの献身',\n",
       " '週刊少年ジャンプ',\n",
       " 'JUNK FOOD',\n",
       " 'はめ込み',\n",
       " '否める',\n",
       " 'デイリーチャート',\n",
       " 'Mark II',\n",
       " 'ヴァレンティン',\n",
       " '日本代表監督',\n",
       " 'イラン映画',\n",
       " 'サンデー・ジャポン',\n",
       " 'SEVENTEEN',\n",
       " 'Asgard',\n",
       " '糖尿病',\n",
       " '不正行為',\n",
       " '村上佳代',\n",
       " 'org',\n",
       " '闘魂三銃士',\n",
       " '全国各地',\n",
       " '特別ゲスト',\n",
       " 'ちの',\n",
       " 'ある意味',\n",
       " '国際大会',\n",
       " '戦国無双',\n",
       " 'GOOD LUCK!!',\n",
       " '理事長',\n",
       " '主題歌',\n",
       " '登録名',\n",
       " 'デンマーク代表',\n",
       " '電気ポット',\n",
       " \"K'\",\n",
       " '共通理解',\n",
       " 'モントリオール世界映画祭',\n",
       " '写真学科',\n",
       " '再開発',\n",
       " '大竹のり子',\n",
       " '語呂合わせ',\n",
       " 'てれ',\n",
       " 'sweet',\n",
       " '浅尾美和',\n",
       " '研ぎ澄ます',\n",
       " '電子コンパス',\n",
       " 'ウェブストア',\n",
       " 'ホ',\n",
       " '宮迫博之',\n",
       " '委員会',\n",
       " 'site',\n",
       " '多分',\n",
       " '芸能人',\n",
       " 'ごてごて',\n",
       " '何様',\n",
       " '大金持ち',\n",
       " 'コケる',\n",
       " 'ランクづける',\n",
       " 'ネイリスト',\n",
       " 'what',\n",
       " '職場恋愛',\n",
       " '単身赴任',\n",
       " 'ニュースリリース',\n",
       " 'スポーティ',\n",
       " 'ビフィズス菌',\n",
       " '多方面',\n",
       " 'ストーリー展開',\n",
       " 'トンデモ',\n",
       " '元気ですか',\n",
       " 'golf',\n",
       " '富士桜',\n",
       " '天海祐希',\n",
       " '@NNIVERSARY',\n",
       " 'Zepp Tokyo',\n",
       " 'GABA',\n",
       " 'ニュースビューアアプリ',\n",
       " '鉄道模型',\n",
       " 'エリック・トレダノ',\n",
       " '佐々木健介',\n",
       " '元カレ',\n",
       " '見届ける',\n",
       " 'アンダーワールド:エボリューション',\n",
       " '待ち時間',\n",
       " 'ヒートパイプ',\n",
       " '寝転がる',\n",
       " '王監督',\n",
       " '二重構造',\n",
       " '和菓子屋',\n",
       " '中央通',\n",
       " '福岡県福岡市早良区城西',\n",
       " '鈴木保奈美',\n",
       " '植物学',\n",
       " 'ASP',\n",
       " 'ch',\n",
       " '大学院生',\n",
       " 'さがす',\n",
       " 'CUSTOM CULTURE',\n",
       " 'Forever',\n",
       " '合革',\n",
       " 'BRAVIA',\n",
       " 'ダウンローダ',\n",
       " '幸せになろう',\n",
       " '端末本体',\n",
       " 'レッグウェア',\n",
       " '交際相手',\n",
       " '独立リーグ',\n",
       " '化粧品',\n",
       " '友情出演',\n",
       " 'グルメサイト',\n",
       " '辛抱強い',\n",
       " '斎賀和彦',\n",
       " '変化球',\n",
       " 'ショルダーバッグ',\n",
       " '修学旅行',\n",
       " 'ranking',\n",
       " 'プチプチ',\n",
       " 'can',\n",
       " 'モリアーティ教授',\n",
       " '原因不明',\n",
       " 'NON STYLE',\n",
       " '体力的',\n",
       " '加藤茶',\n",
       " '大前提',\n",
       " 'コインロッカー',\n",
       " '専用アプリ',\n",
       " 'モテる男',\n",
       " 'sky',\n",
       " 'オリジナル。',\n",
       " '走高跳',\n",
       " '迷惑メール',\n",
       " '他紙',\n",
       " '伊勢谷友介',\n",
       " 'sl',\n",
       " '貴婦人',\n",
       " 'BBクリーム',\n",
       " '使い勝手',\n",
       " '女子中学生',\n",
       " 'デザートサーカスチョコレートバーガー',\n",
       " 'うえ',\n",
       " '非売品',\n",
       " 'アルカリ性',\n",
       " 'BOYS LOVE',\n",
       " '展開中',\n",
       " '偽装結婚',\n",
       " '眠れる',\n",
       " 'CLIENT',\n",
       " '書き換え',\n",
       " 'インディペンデント映画',\n",
       " 'Encounter',\n",
       " '電気毛布',\n",
       " '静岡県浜松市南区',\n",
       " '置ける',\n",
       " '新しい世界',\n",
       " '限定版',\n",
       " 'QuickTime',\n",
       " 'CHANGES',\n",
       " '中国メディア',\n",
       " 'りな',\n",
       " 'スウェーデン戦',\n",
       " '手放せる',\n",
       " '支離滅裂',\n",
       " 'コーエーテクモゲームス',\n",
       " '研究生',\n",
       " '使い切る',\n",
       " '事細かい',\n",
       " 'かき混ぜる',\n",
       " '苦しみ',\n",
       " 'もす',\n",
       " 'ないじゃないですか',\n",
       " '手土産',\n",
       " '樹木希林',\n",
       " 'スマホケース',\n",
       " '製造業',\n",
       " '地図アプリ',\n",
       " '新製品',\n",
       " 'ROC STAR',\n",
       " 'ご機嫌',\n",
       " '新商品開発',\n",
       " '鳴らす',\n",
       " 'PLAY!',\n",
       " '日本工学院専門学校',\n",
       " '柴咲コウ',\n",
       " 'グループB',\n",
       " '突き抜ける',\n",
       " '長野五輪',\n",
       " 'ポイントプログラム',\n",
       " 'アースマラソン',\n",
       " 'メインキャスト',\n",
       " '娘。',\n",
       " 'スパムメール',\n",
       " '出荷停止',\n",
       " '沸き起こる',\n",
       " '一挙両得',\n",
       " 'イケ',\n",
       " '最新作',\n",
       " '発信履歴',\n",
       " 'bee',\n",
       " '抱き合う',\n",
       " 'プロ入り',\n",
       " '目黒区',\n",
       " '東北地方',\n",
       " 'カン・ジェギュ',\n",
       " 'わたしたち',\n",
       " 'Composite',\n",
       " '暴力団幹部',\n",
       " 'ひと汗',\n",
       " 'アズサ',\n",
       " '品質管理',\n",
       " '断れる',\n",
       " '透過率',\n",
       " '過ぎ去る',\n",
       " '緊張感',\n",
       " 'なんだろう',\n",
       " 'かき',\n",
       " '譲り合う',\n",
       " 'スマホグッズ',\n",
       " 'JOEY',\n",
       " 'オランダ人',\n",
       " '必勝法',\n",
       " 'かなん',\n",
       " '扱える',\n",
       " 'てらう',\n",
       " '団体総合',\n",
       " 'ゼクシィ',\n",
       " 'ボストン・レッドソックス',\n",
       " 'IV',\n",
       " '頼れる',\n",
       " 'てんこ盛り',\n",
       " '聞ける',\n",
       " 'no3b',\n",
       " 'ソバカス',\n",
       " '試作品',\n",
       " '歓迎会',\n",
       " 'DVDスーパーマルチドライブ',\n",
       " '想像力',\n",
       " 'あがる',\n",
       " 'CFカード',\n",
       " '早期発見',\n",
       " '大飯原発',\n",
       " 'ストーン・ストリート',\n",
       " 'げんなり',\n",
       " '関連性',\n",
       " 'dreams',\n",
       " 'サービス産業',\n",
       " 'お笑いコンビ',\n",
       " 'お気',\n",
       " '発信元',\n",
       " '報道記者',\n",
       " 'コンビニエンスストア',\n",
       " 'Tゾーン',\n",
       " '没',\n",
       " 'JAPAN',\n",
       " '読',\n",
       " 'twentieth',\n",
       " '小道具',\n",
       " 'プロジェクト:',\n",
       " 'カメルーン代表',\n",
       " 'FUNNY',\n",
       " '基地局',\n",
       " '英語キーボード',\n",
       " '河本準一',\n",
       " '載る',\n",
       " 'of',\n",
       " 'てんびん座',\n",
       " '価格.com',\n",
       " '著作権法',\n",
       " '裸眼立体視',\n",
       " 'データ転送',\n",
       " '向け',\n",
       " '取替える',\n",
       " '悩み相談',\n",
       " 'のぼうの城',\n",
       " 'サークルカット',\n",
       " 'くまのプーさん',\n",
       " 'HEROES/ヒーローズ',\n",
       " '残れる',\n",
       " '都内某所',\n",
       " 'クローズド・ノート',\n",
       " '強化ガラス',\n",
       " '初デート',\n",
       " 'ニック・フューリー',\n",
       " '崎本大海',\n",
       " 'なまえ',\n",
       " '社員食堂',\n",
       " '終了時間',\n",
       " '加藤夏希',\n",
       " '作戦班',\n",
       " '暦',\n",
       " 'もってのほか',\n",
       " '編集部',\n",
       " '運転技術',\n",
       " 'lab.',\n",
       " 'CAMEL',\n",
       " '安倍なつみ',\n",
       " 'kore',\n",
       " 'しみる',\n",
       " '褐炭',\n",
       " 'うごめく',\n",
       " '蛍光灯',\n",
       " '原発事故',\n",
       " 'ダシ',\n",
       " '二世帯住宅',\n",
       " '倉科カナ',\n",
       " '今野泰幸',\n",
       " 'イカ',\n",
       " '千葉ロッテ',\n",
       " '再利用',\n",
       " '面白',\n",
       " 'POOL SIDE',\n",
       " '未成年',\n",
       " '死に絶える',\n",
       " '給与明細',\n",
       " '日本国内',\n",
       " '恐る',\n",
       " '教科書',\n",
       " '有料放送',\n",
       " '如月弦太朗',\n",
       " 'Precious',\n",
       " 'SIGMA',\n",
       " 'グローバル市場',\n",
       " '刺しゅう',\n",
       " 'SKEメンバー',\n",
       " 'IMAP',\n",
       " 'Party',\n",
       " 'ももクロ',\n",
       " 'girls talk',\n",
       " '無人偵察機',\n",
       " '英語表記',\n",
       " 'お伝え',\n",
       " '都営新宿線',\n",
       " 'ひっぱたく',\n",
       " 'はずむ',\n",
       " 'フライトナイト/恐怖の夜',\n",
       " '信頼関係',\n",
       " 'ドイツ軍',\n",
       " 'ディズニー作品',\n",
       " 'サイバーディフェンス研究所',\n",
       " 'ラッセル・ブランド',\n",
       " '正統派',\n",
       " 'Häagen-Dazs',\n",
       " '美咲撫子',\n",
       " 'アビー・ワンバック',\n",
       " '切り忘れる',\n",
       " '恋の罪',\n",
       " '委員長',\n",
       " 'いない',\n",
       " 'section',\n",
       " '目覚しい',\n",
       " '撃ちまくる',\n",
       " '映像作品',\n",
       " '取り揃える',\n",
       " '柄もの',\n",
       " '等身大フィギュア',\n",
       " 'レーシングゲーム',\n",
       " 'ほのか',\n",
       " '松岡修造',\n",
       " '女王蜂',\n",
       " ...}"
      ]
     },
     "execution_count": 37,
     "metadata": {},
     "output_type": "execute_result"
    }
   ],
   "source": [
    "set(dictinonary_mecab.token2id.keys()) - set(dictinonary_sudachi.token2id.keys())"
   ]
  },
  {
   "cell_type": "code",
   "execution_count": 38,
   "metadata": {},
   "outputs": [],
   "source": [
    "sentences_mecab_test = [mecab_tokenizer.tokenize(normalize(s)) for s in X_text_test]\n",
    "corpus_mecab_test = [dictinonary_mecab.doc2bow(w) for w in sentences_mecab_test]\n",
    "vectors_test_mecab = model_mecab.get_csc_vectors(model_mecab.get_corpus_tfidf(corpus_mecab_test), num_terms_m)"
   ]
  },
  {
   "cell_type": "code",
   "execution_count": 39,
   "metadata": {},
   "outputs": [],
   "source": [
    "sentences_sudachi_test = [sudachi_tokenizer.tokenize(normalize(s)) for s in X_text_test]\n",
    "corpus_sudachi_test = [dictinonary_sudachi.doc2bow(w) for w in sentences_sudachi_test]\n",
    "vectors_test_sudachi = model_sudachi.get_csc_vectors(model_sudachi.get_corpus_tfidf(corpus_sudachi_test), num_terms_s)"
   ]
  },
  {
   "cell_type": "code",
   "execution_count": null,
   "metadata": {},
   "outputs": [],
   "source": []
  },
  {
   "cell_type": "markdown",
   "metadata": {},
   "source": [
    "## classify by LogisticRegression"
   ]
  },
  {
   "cell_type": "code",
   "execution_count": 40,
   "metadata": {},
   "outputs": [],
   "source": [
    "def plot_confusion_matrix(test_y,pred_y,class_names,normalize=False):\n",
    "\n",
    "    cm = confusion_matrix(test_y,pred_y)\n",
    "    classes = class_names\n",
    "    if normalize:\n",
    "        cm = cm.astype('float') / cm.sum(axis=1)[:, np.newaxis]\n",
    "    fig, ax = plt.subplots()\n",
    "    im = ax.imshow(cm, interpolation='nearest', cmap=plt.cm.Blues)\n",
    "    ax.figure.colorbar(im, ax=ax)\n",
    "    ax.set(xticks=np.arange(cm.shape[1]),\n",
    "           yticks=np.arange(cm.shape[0]),\n",
    "           xticklabels=classes,\n",
    "           yticklabels=classes,\n",
    "           ylabel='True label\\n',\n",
    "           xlabel='\\nPredicted label')\n",
    "    fmt = '.2f' if normalize else 'd'\n",
    "    for i in range(cm.shape[0]):\n",
    "        for j in range(cm.shape[1]):\n",
    "            ax.text(j,\n",
    "                    i,\n",
    "                    format(cm[i, j], fmt),\n",
    "                    ha=\"center\",\n",
    "                    va=\"center\")\n",
    "    fig.tight_layout()\n",
    "    return ax"
   ]
  },
  {
   "cell_type": "code",
   "execution_count": 41,
   "metadata": {},
   "outputs": [
    {
     "name": "stderr",
     "output_type": "stream",
     "text": [
      "/Users/tdual/opt/anaconda3/envs/py3.6/lib/python3.6/site-packages/sklearn/linear_model/logistic.py:432: FutureWarning: Default solver will be changed to 'lbfgs' in 0.22. Specify a solver to silence this warning.\n",
      "  FutureWarning)\n",
      "/Users/tdual/opt/anaconda3/envs/py3.6/lib/python3.6/site-packages/sklearn/linear_model/logistic.py:469: FutureWarning: Default multi_class will be changed to 'auto' in 0.22. Specify the multi_class option to silence this warning.\n",
      "  \"this warning.\", FutureWarning)\n"
     ]
    },
    {
     "data": {
      "text/plain": [
       "LogisticRegression(C=1.0, class_weight=None, dual=False, fit_intercept=True,\n",
       "                   intercept_scaling=1, l1_ratio=None, max_iter=100,\n",
       "                   multi_class='warn', n_jobs=None, penalty='l2',\n",
       "                   random_state=None, solver='warn', tol=0.0001, verbose=0,\n",
       "                   warm_start=False)"
      ]
     },
     "execution_count": 41,
     "metadata": {},
     "output_type": "execute_result"
    }
   ],
   "source": [
    "clf_m = LogisticRegression()\n",
    "clf_m.fit(vectors_mecab, y_train)"
   ]
  },
  {
   "cell_type": "code",
   "execution_count": 42,
   "metadata": {},
   "outputs": [],
   "source": [
    "class_names = clf_m.classes_"
   ]
  },
  {
   "cell_type": "code",
   "execution_count": 43,
   "metadata": {},
   "outputs": [],
   "source": [
    "x_test = vectors_test_mecab"
   ]
  },
  {
   "cell_type": "code",
   "execution_count": 44,
   "metadata": {},
   "outputs": [
    {
     "name": "stdout",
     "output_type": "stream",
     "text": [
      "acc:  0.9436008676789588\n",
      "macro recall:  0.9370478971545325\n",
      "macro precision:  0.943172794512064\n"
     ]
    },
    {
     "data": {
      "text/plain": [
       "<matplotlib.axes._subplots.AxesSubplot at 0x7ff96b360128>"
      ]
     },
     "execution_count": 44,
     "metadata": {},
     "output_type": "execute_result"
    },
    {
     "data": {
      "image/png": "[encoded data removed]",
      "text/plain": [
       "<Figure size 432x288 with 2 Axes>"
      ]
     },
     "metadata": {
      "needs_background": "light"
     },
     "output_type": "display_data"
    }
   ],
   "source": [
    "print(\"acc: \", clf_m.score(x_test, y_test))  \n",
    "test_pred = clf_m.predict(x_test)\n",
    "print(\"macro recall: \", recall_score(y_test, test_pred, average=\"macro\"))\n",
    "print(\"macro precision: \", precision_score(y_test, test_pred, average=\"macro\"))\n",
    "plot_confusion_matrix(y_test, test_pred, class_names,normalize=False)"
   ]
  },
  {
   "cell_type": "code",
   "execution_count": 45,
   "metadata": {},
   "outputs": [
    {
     "data": {
      "text/plain": [
       "LogisticRegression(C=1.0, class_weight=None, dual=False, fit_intercept=True,\n",
       "                   intercept_scaling=1, l1_ratio=None, max_iter=100,\n",
       "                   multi_class='warn', n_jobs=None, penalty='l2',\n",
       "                   random_state=None, solver='warn', tol=0.0001, verbose=0,\n",
       "                   warm_start=False)"
      ]
     },
     "execution_count": 45,
     "metadata": {},
     "output_type": "execute_result"
    }
   ],
   "source": [
    "clf_s = LogisticRegression()\n",
    "clf_s.fit(vectors_sudachi, y_train)"
   ]
  },
  {
   "cell_type": "code",
   "execution_count": 46,
   "metadata": {},
   "outputs": [
    {
     "data": {
      "text/plain": [
       "(1844, 26968)"
      ]
     },
     "execution_count": 46,
     "metadata": {},
     "output_type": "execute_result"
    }
   ],
   "source": [
    "x_test = vectors_test_sudachi\n",
    "x_test.shape"
   ]
  },
  {
   "cell_type": "code",
   "execution_count": 47,
   "metadata": {},
   "outputs": [
    {
     "name": "stdout",
     "output_type": "stream",
     "text": [
      "acc:  0.9360086767895879\n",
      "macro recall:  0.9279217004906994\n",
      "macro precision:  0.9345703952725657\n"
     ]
    },
    {
     "data": {
      "text/plain": [
       "<matplotlib.axes._subplots.AxesSubplot at 0x7ff96aed46d8>"
      ]
     },
     "execution_count": 47,
     "metadata": {},
     "output_type": "execute_result"
    },
    {
     "data": {
      "image/png": "[encoded data removed]",
      "text/plain": [
       "<Figure size 432x288 with 2 Axes>"
      ]
     },
     "metadata": {
      "needs_background": "light"
     },
     "output_type": "display_data"
    }
   ],
   "source": [
    "print(\"acc: \", clf_s.score(x_test, y_test))  \n",
    "test_pred = clf_s.predict(x_test)\n",
    "print(\"macro recall: \", recall_score(y_test, test_pred, average=\"macro\"))\n",
    "print(\"macro precision: \", precision_score(y_test, test_pred, average=\"macro\"))\n",
    "plot_confusion_matrix(y_test, test_pred, class_names, normalize=False)"
   ]
  },
  {
   "cell_type": "code",
   "execution_count": 48,
   "metadata": {},
   "outputs": [],
   "source": [
    "! say Done"
   ]
  },
  {
   "cell_type": "code",
   "execution_count": null,
   "metadata": {},
   "outputs": [],
   "source": []
  }
 ],
 "metadata": {
  "kernelspec": {
   "display_name": "Python 3",
   "language": "python",
   "name": "python3"
  },
  "language_info": {
   "codemirror_mode": {
    "name": "ipython",
    "version": 3
   },
   "file_extension": ".py",
   "mimetype": "text/x-python",
   "name": "python",
   "nbconvert_exporter": "python",
   "pygments_lexer": "ipython3",
   "version": "3.6.10"
  }
 },
 "nbformat": 4,
 "nbformat_minor": 4
}
